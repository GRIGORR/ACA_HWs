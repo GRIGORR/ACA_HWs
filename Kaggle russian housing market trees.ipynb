{
 "cells": [
  {
   "cell_type": "code",
   "execution_count": 1,
   "metadata": {},
   "outputs": [
    {
     "name": "stdout",
     "output_type": "stream",
     "text": [
      "/home/user/Desktop/ACA/new/all\n"
     ]
    }
   ],
   "source": [
    "cd all"
   ]
  },
  {
   "cell_type": "markdown",
   "metadata": {},
   "source": [
    "# The result was 0.34, not bad"
   ]
  },
  {
   "cell_type": "code",
   "execution_count": 2,
   "metadata": {
    "collapsed": true
   },
   "outputs": [],
   "source": [
    "import pandas as pd\n",
    "import numpy as np\n",
    "import matplotlib.pyplot as plt\n",
    "import seaborn as sns\n",
    "from sklearn import preprocessing\n",
    "import xgboost as xgb\n",
    "import lightgbm as lgb\n",
    "from sklearn.linear_model import LinearRegression\n",
    "from sklearn.metrics import mean_squared_error\n",
    "%matplotlib inline"
   ]
  },
  {
   "cell_type": "code",
   "execution_count": 3,
   "metadata": {
    "collapsed": true
   },
   "outputs": [],
   "source": [
    "train = pd.read_csv('train.csv', parse_dates=['timestamp'])\n",
    "test = pd.read_csv('test.csv', parse_dates=['timestamp'])"
   ]
  },
  {
   "cell_type": "code",
   "execution_count": 4,
   "metadata": {},
   "outputs": [
    {
     "data": {
      "text/html": [
       "<div>\n",
       "<style scoped>\n",
       "    .dataframe tbody tr th:only-of-type {\n",
       "        vertical-align: middle;\n",
       "    }\n",
       "\n",
       "    .dataframe tbody tr th {\n",
       "        vertical-align: top;\n",
       "    }\n",
       "\n",
       "    .dataframe thead th {\n",
       "        text-align: right;\n",
       "    }\n",
       "</style>\n",
       "<table border=\"1\" class=\"dataframe\">\n",
       "  <thead>\n",
       "    <tr style=\"text-align: right;\">\n",
       "      <th></th>\n",
       "      <th>id</th>\n",
       "      <th>timestamp</th>\n",
       "      <th>full_sq</th>\n",
       "      <th>life_sq</th>\n",
       "      <th>floor</th>\n",
       "      <th>max_floor</th>\n",
       "      <th>material</th>\n",
       "      <th>build_year</th>\n",
       "      <th>num_room</th>\n",
       "      <th>kitch_sq</th>\n",
       "      <th>...</th>\n",
       "      <th>cafe_count_5000_price_2500</th>\n",
       "      <th>cafe_count_5000_price_4000</th>\n",
       "      <th>cafe_count_5000_price_high</th>\n",
       "      <th>big_church_count_5000</th>\n",
       "      <th>church_count_5000</th>\n",
       "      <th>mosque_count_5000</th>\n",
       "      <th>leisure_count_5000</th>\n",
       "      <th>sport_count_5000</th>\n",
       "      <th>market_count_5000</th>\n",
       "      <th>price_doc</th>\n",
       "    </tr>\n",
       "  </thead>\n",
       "  <tbody>\n",
       "    <tr>\n",
       "      <th>0</th>\n",
       "      <td>1</td>\n",
       "      <td>2011-08-20</td>\n",
       "      <td>43</td>\n",
       "      <td>27.0</td>\n",
       "      <td>4.0</td>\n",
       "      <td>NaN</td>\n",
       "      <td>NaN</td>\n",
       "      <td>NaN</td>\n",
       "      <td>NaN</td>\n",
       "      <td>NaN</td>\n",
       "      <td>...</td>\n",
       "      <td>9</td>\n",
       "      <td>4</td>\n",
       "      <td>0</td>\n",
       "      <td>13</td>\n",
       "      <td>22</td>\n",
       "      <td>1</td>\n",
       "      <td>0</td>\n",
       "      <td>52</td>\n",
       "      <td>4</td>\n",
       "      <td>5850000</td>\n",
       "    </tr>\n",
       "    <tr>\n",
       "      <th>1</th>\n",
       "      <td>2</td>\n",
       "      <td>2011-08-23</td>\n",
       "      <td>34</td>\n",
       "      <td>19.0</td>\n",
       "      <td>3.0</td>\n",
       "      <td>NaN</td>\n",
       "      <td>NaN</td>\n",
       "      <td>NaN</td>\n",
       "      <td>NaN</td>\n",
       "      <td>NaN</td>\n",
       "      <td>...</td>\n",
       "      <td>15</td>\n",
       "      <td>3</td>\n",
       "      <td>0</td>\n",
       "      <td>15</td>\n",
       "      <td>29</td>\n",
       "      <td>1</td>\n",
       "      <td>10</td>\n",
       "      <td>66</td>\n",
       "      <td>14</td>\n",
       "      <td>6000000</td>\n",
       "    </tr>\n",
       "    <tr>\n",
       "      <th>2</th>\n",
       "      <td>3</td>\n",
       "      <td>2011-08-27</td>\n",
       "      <td>43</td>\n",
       "      <td>29.0</td>\n",
       "      <td>2.0</td>\n",
       "      <td>NaN</td>\n",
       "      <td>NaN</td>\n",
       "      <td>NaN</td>\n",
       "      <td>NaN</td>\n",
       "      <td>NaN</td>\n",
       "      <td>...</td>\n",
       "      <td>10</td>\n",
       "      <td>3</td>\n",
       "      <td>0</td>\n",
       "      <td>11</td>\n",
       "      <td>27</td>\n",
       "      <td>0</td>\n",
       "      <td>4</td>\n",
       "      <td>67</td>\n",
       "      <td>10</td>\n",
       "      <td>5700000</td>\n",
       "    </tr>\n",
       "    <tr>\n",
       "      <th>3</th>\n",
       "      <td>4</td>\n",
       "      <td>2011-09-01</td>\n",
       "      <td>89</td>\n",
       "      <td>50.0</td>\n",
       "      <td>9.0</td>\n",
       "      <td>NaN</td>\n",
       "      <td>NaN</td>\n",
       "      <td>NaN</td>\n",
       "      <td>NaN</td>\n",
       "      <td>NaN</td>\n",
       "      <td>...</td>\n",
       "      <td>11</td>\n",
       "      <td>2</td>\n",
       "      <td>1</td>\n",
       "      <td>4</td>\n",
       "      <td>4</td>\n",
       "      <td>0</td>\n",
       "      <td>0</td>\n",
       "      <td>26</td>\n",
       "      <td>3</td>\n",
       "      <td>13100000</td>\n",
       "    </tr>\n",
       "    <tr>\n",
       "      <th>4</th>\n",
       "      <td>5</td>\n",
       "      <td>2011-09-05</td>\n",
       "      <td>77</td>\n",
       "      <td>77.0</td>\n",
       "      <td>4.0</td>\n",
       "      <td>NaN</td>\n",
       "      <td>NaN</td>\n",
       "      <td>NaN</td>\n",
       "      <td>NaN</td>\n",
       "      <td>NaN</td>\n",
       "      <td>...</td>\n",
       "      <td>319</td>\n",
       "      <td>108</td>\n",
       "      <td>17</td>\n",
       "      <td>135</td>\n",
       "      <td>236</td>\n",
       "      <td>2</td>\n",
       "      <td>91</td>\n",
       "      <td>195</td>\n",
       "      <td>14</td>\n",
       "      <td>16331452</td>\n",
       "    </tr>\n",
       "  </tbody>\n",
       "</table>\n",
       "<p>5 rows × 292 columns</p>\n",
       "</div>"
      ],
      "text/plain": [
       "   id  timestamp  full_sq  life_sq  floor  max_floor  material  build_year  \\\n",
       "0   1 2011-08-20       43     27.0    4.0        NaN       NaN         NaN   \n",
       "1   2 2011-08-23       34     19.0    3.0        NaN       NaN         NaN   \n",
       "2   3 2011-08-27       43     29.0    2.0        NaN       NaN         NaN   \n",
       "3   4 2011-09-01       89     50.0    9.0        NaN       NaN         NaN   \n",
       "4   5 2011-09-05       77     77.0    4.0        NaN       NaN         NaN   \n",
       "\n",
       "   num_room  kitch_sq    ...      cafe_count_5000_price_2500  \\\n",
       "0       NaN       NaN    ...                               9   \n",
       "1       NaN       NaN    ...                              15   \n",
       "2       NaN       NaN    ...                              10   \n",
       "3       NaN       NaN    ...                              11   \n",
       "4       NaN       NaN    ...                             319   \n",
       "\n",
       "  cafe_count_5000_price_4000 cafe_count_5000_price_high  \\\n",
       "0                          4                          0   \n",
       "1                          3                          0   \n",
       "2                          3                          0   \n",
       "3                          2                          1   \n",
       "4                        108                         17   \n",
       "\n",
       "   big_church_count_5000  church_count_5000  mosque_count_5000  \\\n",
       "0                     13                 22                  1   \n",
       "1                     15                 29                  1   \n",
       "2                     11                 27                  0   \n",
       "3                      4                  4                  0   \n",
       "4                    135                236                  2   \n",
       "\n",
       "   leisure_count_5000  sport_count_5000  market_count_5000  price_doc  \n",
       "0                   0                52                  4    5850000  \n",
       "1                  10                66                 14    6000000  \n",
       "2                   4                67                 10    5700000  \n",
       "3                   0                26                  3   13100000  \n",
       "4                  91               195                 14   16331452  \n",
       "\n",
       "[5 rows x 292 columns]"
      ]
     },
     "execution_count": 4,
     "metadata": {},
     "output_type": "execute_result"
    }
   ],
   "source": [
    "train.head()"
   ]
  },
  {
   "cell_type": "code",
   "execution_count": 5,
   "metadata": {},
   "outputs": [
    {
     "data": {
      "text/plain": [
       "(30471, 292)"
      ]
     },
     "execution_count": 5,
     "metadata": {},
     "output_type": "execute_result"
    }
   ],
   "source": [
    "train.shape"
   ]
  },
  {
   "cell_type": "code",
   "execution_count": 53,
   "metadata": {
    "collapsed": true
   },
   "outputs": [],
   "source": [
    "def rmsle(y_pred, y_test) : \n",
    "    assert len(y_test) == len(y_pred)\n",
    "    return np.sqrt(np.mean((np.log(1+y_pred) - np.log(1+y_test))**2))"
   ]
  },
  {
   "cell_type": "markdown",
   "metadata": {},
   "source": [
    "# EDA and cleaning"
   ]
  },
  {
   "cell_type": "markdown",
   "metadata": {
    "heading_collapsed": true
   },
   "source": [
    "## full_sq column"
   ]
  },
  {
   "cell_type": "code",
   "execution_count": 27,
   "metadata": {
    "hidden": true
   },
   "outputs": [
    {
     "data": {
      "text/plain": [
       "{'boxes': [<matplotlib.lines.Line2D at 0x7fcd31697a58>],\n",
       " 'caps': [<matplotlib.lines.Line2D at 0x7fcd31622be0>,\n",
       "  <matplotlib.lines.Line2D at 0x7fcd31629a58>],\n",
       " 'fliers': [<matplotlib.lines.Line2D at 0x7fcd31630ac8>],\n",
       " 'means': [],\n",
       " 'medians': [<matplotlib.lines.Line2D at 0x7fcd31629c18>],\n",
       " 'whiskers': [<matplotlib.lines.Line2D at 0x7fcd31697c18>,\n",
       "  <matplotlib.lines.Line2D at 0x7fcd31622a20>]}"
      ]
     },
     "execution_count": 27,
     "metadata": {},
     "output_type": "execute_result"
    },
    {
     "data": {
      "image/png": "[encoded data removed]",
      "text/plain": [
       "<matplotlib.figure.Figure at 0x7fcd3169f780>"
      ]
     },
     "metadata": {},
     "output_type": "display_data"
    }
   ],
   "source": [
    "plt.boxplot(train['full_sq'])"
   ]
  },
  {
   "cell_type": "code",
   "execution_count": 4,
   "metadata": {
    "collapsed": true,
    "hidden": true
   },
   "outputs": [],
   "source": [
    "train = train[train.full_sq < 5000]\n",
    "train.loc[train.full_sq < 5, 'full_sq'] = np.NaN"
   ]
  },
  {
   "cell_type": "code",
   "execution_count": 5,
   "metadata": {
    "collapsed": true,
    "hidden": true
   },
   "outputs": [],
   "source": [
    "train.loc[(train.full_sq > 210) & (train.life_sq / train.full_sq < 0.3), \"full_sq\"] = np.NaN\n",
    "test.loc[(test.full_sq > 150) & (test.life_sq / test.full_sq < 0.3), \"full_sq\"] = np.NaN"
   ]
  },
  {
   "cell_type": "markdown",
   "metadata": {
    "heading_collapsed": true
   },
   "source": [
    "## State"
   ]
  },
  {
   "cell_type": "markdown",
   "metadata": {
    "hidden": true
   },
   "source": [
    "### There is  a 33 in 'state' column. Its obvious that its a mistake. Lets change it to most occuring value"
   ]
  },
  {
   "cell_type": "code",
   "execution_count": 6,
   "metadata": {
    "hidden": true
   },
   "outputs": [
    {
     "name": "stdout",
     "output_type": "stream",
     "text": [
      "2.0     5844\n",
      "3.0     5790\n",
      "1.0     4855\n",
      "4.0      422\n",
      "33.0       1\n",
      "Name: state, dtype: int64\n"
     ]
    }
   ],
   "source": [
    "print(train['state'].value_counts())\n",
    "train.loc[train.state == 33, 'state'] = train['state'].mode()[0]"
   ]
  },
  {
   "cell_type": "code",
   "execution_count": 48,
   "metadata": {
    "hidden": true
   },
   "outputs": [
    {
     "name": "stderr",
     "output_type": "stream",
     "text": [
      "/home/user/anaconda3/lib/python3.6/site-packages/seaborn/categorical.py:454: FutureWarning: remove_na is deprecated and is a private function. Do not use.\n",
      "  box_data = remove_na(group_data)\n"
     ]
    },
    {
     "data": {
      "text/plain": [
       "[<matplotlib.text.Text at 0x7f6e0cc8f978>,\n",
       " <matplotlib.text.Text at 0x7f6e0cca7278>,\n",
       " <matplotlib.text.Text at 0x7f6e0cc79978>]"
      ]
     },
     "execution_count": 48,
     "metadata": {},
     "output_type": "execute_result"
    },
    {
     "data": {
      "image/png": "[encoded data removed]",
      "text/plain": [
       "<matplotlib.figure.Figure at 0x7f6e0cc33a58>"
      ]
     },
     "metadata": {},
     "output_type": "display_data"
    }
   ],
   "source": [
    "f, ax = plt.subplots(figsize=(12, 8))\n",
    "ind = train[train['state'].isnull()].index\n",
    "sns.boxplot(x=\"state\", y=np.log10(train['price_doc']), data=train.drop(ind))\n",
    "ax.set(title='Log10 of median price by state of home', xlabel='State', ylabel='log10(price)')"
   ]
  },
  {
   "cell_type": "markdown",
   "metadata": {
    "heading_collapsed": true
   },
   "source": [
    "## Build Year"
   ]
  },
  {
   "cell_type": "code",
   "execution_count": 7,
   "metadata": {
    "hidden": true
   },
   "outputs": [
    {
     "name": "stdout",
     "output_type": "stream",
     "text": [
      "0.0           530\n",
      "1.0           368\n",
      "3.0             2\n",
      "20052009.0      1\n",
      "4965.0          1\n",
      "215.0           1\n",
      "2018.0          1\n",
      "71.0            1\n",
      "20.0            1\n",
      "Name: build_year, dtype: int64\n"
     ]
    }
   ],
   "source": [
    "# there are many houses with 0 or 1 as build year. \n",
    "# Maybe they are some specific types,\n",
    "# Lets keep them but impute everything else with Na\n",
    "print(train['build_year'][(train['build_year'] < 1500) |(train['build_year'] > 2017)].value_counts())\n",
    "train.loc[((train['build_year'] > 1 ) & (train['build_year'] < 1500)) | (train['build_year'] > 2017),'build_year'] = np.NAN"
   ]
  },
  {
   "cell_type": "code",
   "execution_count": 8,
   "metadata": {
    "hidden": true
   },
   "outputs": [
    {
     "name": "stdout",
     "output_type": "stream",
     "text": [
      "0.0       369\n",
      "1.0       187\n",
      "2018.0     30\n",
      "2019.0      5\n",
      "215.0       1\n",
      "2.0         1\n",
      "Name: build_year, dtype: int64\n"
     ]
    }
   ],
   "source": [
    "print(test['build_year'][(test['build_year'] < 1500) | \n",
    "                      (test['build_year'] > 2017)].value_counts())\n",
    "test.loc[((train['build_year'] > 1 ) & (train['build_year'] < 1500)) | (test['build_year'] > 2017),'build_year'] = np.NAN"
   ]
  },
  {
   "cell_type": "markdown",
   "metadata": {
    "heading_collapsed": true
   },
   "source": [
    "## I found a useful way on kaggle to reduce the number of sub_areas.The number of initial classes of sub_areas is 146.  Sub_areas are mapped into larger districts and the number becomes 12"
   ]
  },
  {
   "cell_type": "code",
   "execution_count": 9,
   "metadata": {
    "collapsed": true,
    "hidden": true
   },
   "outputs": [],
   "source": [
    "dists = {}\n",
    "dists['Zelenograd'] = [\"Krjukovo\",\"Matushkino\",\"Savelki\",\"Silino\",\"Staroe Krjukovo\"]\n",
    "dists['Novomoskovsky'] = [\"Poselenie Desjonovskoe\",\"Poselenie Filimonkovskoe\",\"Poselenie Kokoshkino\",\"Poselenie Marushkinskoe\",\"Poselenie Moskovskij\",\"Poselenie Mosrentgen\",\"Poselenie Rjazanovskoe\",\"Poselenie Shherbinka\",\"Poselenie Sosenskoe\",\"Poselenie Vnukovskoe\",\"Poselenie Voskresenskoe\"]\n",
    "dists['Troitsky'] = [\"Poselenie Kievskij\",\"Poselenie Klenovskoe\",\"Poselenie Krasnopahorskoe\",\"Poselenie Mihajlovo-Jarcevskoe\",\"Poselenie Novofedorovskoe\",\"Poselenie Pervomajskoe\",\"Poselenie Rogovskoe\",\"Poselenie Shhapovskoe\",\"Poselenie Voronovskoe\",\"Troickij okrug\"]\n",
    "dists['Northern'] = [\"Ajeroport\",\"Begovoe\",\"Beskudnikovskoe\",\"Dmitrovskoe\",\"Golovinskoe\",\"Horoshevskoe\",\"Hovrino\",\"Koptevo\",\"Levoberezhnoe\",\"Molzhaninovskoe\",\"Savelovskoe\",\"Sokol\",\"Timirjazevskoe\",\"Vojkovskoe\",\"Vostochnoe Degunino\",\"Zapadnoe Degunino\"]\n",
    "dists['Southwest'] = [\"Akademicheskoe\",\"Cheremushki\",\"Gagarinskoe\",\"Jasenevo\",\"Juzhnoe Butovo\",\"Kon'kovo\",\"Kotlovka\",\"Lomonosovskoe\",\"Obruchevskoe\",\"Severnoe Butovo\",\"Teplyj Stan\",\"Zjuzino\"]\n",
    "dists['Northeast'] = [\"Alekseevskoe\",\"Altuf'evskoe\",\"Babushkinskoe\",\"Bibirevo\",\"Butyrskoe\",\"Jaroslavskoe\",\"Juzhnoe Medvedkovo\",\"Lianozovo\",\"Losinoostrovskoe\",\"Mar'ina Roshha\",\"Marfino\",\"Ostankinskoe\",\"Otradnoe\",\"Rostokino\",\"Severnoe\",\"Severnoe Medvedkovo\",\"Sviblovo\"]\n",
    "dists['Central'] = [\"Arbat\",\"Basmannoe\",\"Hamovniki\",\"Jakimanka\",\"Krasnosel'skoe\",\"Meshhanskoe\",\"Presnenskoe\",\"Taganskoe\",\"Tverskoe\",\"Zamoskvorech'e\"]\n",
    "dists['Southern'] = [\"Birjulevo Vostochnoe\",\"Birjulevo Zapadnoe\",\"Brateevo\",\"Caricyno\",\"Chertanovo Central'noe\",\"Chertanovo Juzhnoe\",\"Chertanovo Severnoe\",\"Danilovskoe\",\"Donskoe\",\"Moskvorech'e-Saburovo\",\"Nagatino-Sadovniki\",\"Nagatinskij Zaton\",\"Nagornoe\",\"Orehovo-Borisovo Juzhnoe\",\"Orehovo-Borisovo Severnoe\",\"Zjablikovo\"]\n",
    "dists['Eastern'] = [\"Bogorodskoe\",\"Gol'janovo\",\"Ivanovskoe\",\"Izmajlovo\",\"Kosino-Uhtomskoe\",\"Metrogorodok\",\"Novogireevo\",\"Novokosino\",\"Perovo\",\"Preobrazhenskoe\",\"Severnoe Izmajlovo\",\"Sokol'niki\",\"Sokolinaja Gora\",\"Veshnjaki\",\"Vostochnoe\",\"Vostochnoe Izmajlovo\"]\n",
    "dists['Western'] = [\"Dorogomilovo\",\"Filevskij Park\",\"Fili Davydkovo\",\"Krylatskoe\",\"Kuncevo\",\"Mozhajskoe\",\"Novo-Peredelkino\",\"Ochakovo-Matveevskoe\",\"Prospekt Vernadskogo\",\"Ramenki\",\"Solncevo\",\"Troparevo-Nikulino\",\"Vnukovo\"]\n",
    "dists['Northwest'] = [\"Horoshevo-Mnevniki\",\"Juzhnoe Tushino\",\"Kurkino\",\"Mitino\",\"Pokrovskoe Streshnevo\",\"Severnoe Tushino\",\"Shhukino\",\"Strogino\"]\n",
    "dists['Southeast'] = [\"Juzhnoportovoe\",\"Kapotnja\",\"Kuz'minki\",\"Lefortovo\",\"Ljublino\",\"Mar'ino\",\"Nekrasovka\",\"Nizhegorodskoe\",\"Pechatniki\",\"Rjazanskij\",\"Tekstil'shhiki\",\"Vyhino-Zhulebino\"]"
   ]
  },
  {
   "cell_type": "code",
   "execution_count": 10,
   "metadata": {
    "hidden": true
   },
   "outputs": [
    {
     "name": "stderr",
     "output_type": "stream",
     "text": [
      "/home/user/anaconda3/lib/python3.6/site-packages/ipykernel_launcher.py:2: SettingWithCopyWarning: \n",
      "A value is trying to be set on a copy of a slice from a DataFrame\n",
      "\n",
      "See the caveats in the documentation: http://pandas.pydata.org/pandas-docs/stable/indexing.html#indexing-view-versus-copy\n",
      "  \n"
     ]
    },
    {
     "data": {
      "text/plain": [
       "Novomoskovsky    6166\n",
       "Southeast        3941\n",
       "Southern         3217\n",
       "Eastern          2916\n",
       "Southwest        2441\n",
       "Northern         2376\n",
       "Northeast        2221\n",
       "Western          2161\n",
       "Northwest        2080\n",
       "Central          1506\n",
       "Zelenograd        926\n",
       "Troitsky          519\n",
       "Name: sub_area, dtype: int64"
      ]
     },
     "execution_count": 10,
     "metadata": {},
     "output_type": "execute_result"
    }
   ],
   "source": [
    "for i in dists:\n",
    "    train.sub_area[train.sub_area.isin(dists[i])] = i\n",
    "train.sub_area.value_counts()"
   ]
  },
  {
   "cell_type": "code",
   "execution_count": 12,
   "metadata": {
    "hidden": true
   },
   "outputs": [
    {
     "name": "stderr",
     "output_type": "stream",
     "text": [
      "/home/user/anaconda3/lib/python3.6/site-packages/ipykernel_launcher.py:2: SettingWithCopyWarning: \n",
      "A value is trying to be set on a copy of a slice from a DataFrame\n",
      "\n",
      "See the caveats in the documentation: http://pandas.pydata.org/pandas-docs/stable/indexing.html#indexing-view-versus-copy\n",
      "  \n"
     ]
    }
   ],
   "source": [
    "for i in dists:\n",
    "    test.sub_area[test.sub_area.isin(dists[i])] = i"
   ]
  },
  {
   "cell_type": "markdown",
   "metadata": {
    "collapsed": true,
    "heading_collapsed": true
   },
   "source": [
    "## Life square"
   ]
  },
  {
   "cell_type": "code",
   "execution_count": 14,
   "metadata": {
    "collapsed": true,
    "hidden": true
   },
   "outputs": [],
   "source": [
    "train.loc[train['life_sq'] > train['full_sq'], 'life_sq'] = np.NAN\n",
    "test.loc[test['life_sq'] > test['full_sq'], 'life_sq'] = np.NAN"
   ]
  },
  {
   "cell_type": "code",
   "execution_count": 15,
   "metadata": {
    "collapsed": true,
    "hidden": true
   },
   "outputs": [],
   "source": [
    "train.loc[train['life_sq'] < 5, 'life_sq'] = np.NAN\n",
    "test.loc[test['life_sq'] < 5, 'life_sq'] = np.NAN"
   ]
  },
  {
   "cell_type": "markdown",
   "metadata": {
    "heading_collapsed": true
   },
   "source": [
    "## Room count"
   ]
  },
  {
   "cell_type": "code",
   "execution_count": 66,
   "metadata": {
    "hidden": true
   },
   "outputs": [
    {
     "name": "stderr",
     "output_type": "stream",
     "text": [
      "/home/user/anaconda3/lib/python3.6/site-packages/seaborn/categorical.py:1428: FutureWarning: remove_na is deprecated and is a private function. Do not use.\n",
      "  stat_data = remove_na(group_data)\n"
     ]
    },
    {
     "data": {
      "text/plain": [
       "[<matplotlib.text.Text at 0x7fe462951cc0>,\n",
       " <matplotlib.text.Text at 0x7fe4627d0518>]"
      ]
     },
     "execution_count": 66,
     "metadata": {},
     "output_type": "execute_result"
    },
    {
     "data": {
      "image/png": "[encoded data removed]",
      "text/plain": [
       "<matplotlib.figure.Figure at 0x7fe46280c668>"
      ]
     },
     "metadata": {},
     "output_type": "display_data"
    }
   ],
   "source": [
    "f, ax = plt.subplots(figsize=(10, 7))\n",
    "sns.countplot(x=train['num_room'])\n",
    "ax.set(title='Distribution of room count', xlabel='num_room')"
   ]
  },
  {
   "cell_type": "code",
   "execution_count": 16,
   "metadata": {
    "hidden": true
   },
   "outputs": [
    {
     "data": {
      "text/html": [
       "<div>\n",
       "<style scoped>\n",
       "    .dataframe tbody tr th:only-of-type {\n",
       "        vertical-align: middle;\n",
       "    }\n",
       "\n",
       "    .dataframe tbody tr th {\n",
       "        vertical-align: top;\n",
       "    }\n",
       "\n",
       "    .dataframe thead th {\n",
       "        text-align: right;\n",
       "    }\n",
       "</style>\n",
       "<table border=\"1\" class=\"dataframe\">\n",
       "  <thead>\n",
       "    <tr style=\"text-align: right;\">\n",
       "      <th></th>\n",
       "      <th>id</th>\n",
       "      <th>timestamp</th>\n",
       "      <th>full_sq</th>\n",
       "      <th>life_sq</th>\n",
       "      <th>floor</th>\n",
       "      <th>max_floor</th>\n",
       "      <th>material</th>\n",
       "      <th>build_year</th>\n",
       "      <th>num_room</th>\n",
       "      <th>kitch_sq</th>\n",
       "      <th>...</th>\n",
       "      <th>cafe_count_5000_price_2500</th>\n",
       "      <th>cafe_count_5000_price_4000</th>\n",
       "      <th>cafe_count_5000_price_high</th>\n",
       "      <th>big_church_count_5000</th>\n",
       "      <th>church_count_5000</th>\n",
       "      <th>mosque_count_5000</th>\n",
       "      <th>leisure_count_5000</th>\n",
       "      <th>sport_count_5000</th>\n",
       "      <th>market_count_5000</th>\n",
       "      <th>price_doc</th>\n",
       "    </tr>\n",
       "  </thead>\n",
       "  <tbody>\n",
       "    <tr>\n",
       "      <th>11621</th>\n",
       "      <td>11624</td>\n",
       "      <td>2013-10-28</td>\n",
       "      <td>40.0</td>\n",
       "      <td>19.0</td>\n",
       "      <td>17.0</td>\n",
       "      <td>17.0</td>\n",
       "      <td>1.0</td>\n",
       "      <td>2011.0</td>\n",
       "      <td>19.0</td>\n",
       "      <td>7.0</td>\n",
       "      <td>...</td>\n",
       "      <td>1</td>\n",
       "      <td>1</td>\n",
       "      <td>0</td>\n",
       "      <td>2</td>\n",
       "      <td>11</td>\n",
       "      <td>0</td>\n",
       "      <td>0</td>\n",
       "      <td>6</td>\n",
       "      <td>0</td>\n",
       "      <td>2630000</td>\n",
       "    </tr>\n",
       "    <tr>\n",
       "      <th>17764</th>\n",
       "      <td>17767</td>\n",
       "      <td>2014-04-23</td>\n",
       "      <td>58.0</td>\n",
       "      <td>34.0</td>\n",
       "      <td>1.0</td>\n",
       "      <td>2.0</td>\n",
       "      <td>1.0</td>\n",
       "      <td>1992.0</td>\n",
       "      <td>10.0</td>\n",
       "      <td>10.0</td>\n",
       "      <td>...</td>\n",
       "      <td>0</td>\n",
       "      <td>0</td>\n",
       "      <td>0</td>\n",
       "      <td>0</td>\n",
       "      <td>2</td>\n",
       "      <td>0</td>\n",
       "      <td>2</td>\n",
       "      <td>8</td>\n",
       "      <td>1</td>\n",
       "      <td>6000000</td>\n",
       "    </tr>\n",
       "    <tr>\n",
       "      <th>26713</th>\n",
       "      <td>26716</td>\n",
       "      <td>2014-12-18</td>\n",
       "      <td>51.0</td>\n",
       "      <td>30.0</td>\n",
       "      <td>14.0</td>\n",
       "      <td>17.0</td>\n",
       "      <td>1.0</td>\n",
       "      <td>1984.0</td>\n",
       "      <td>17.0</td>\n",
       "      <td>8.0</td>\n",
       "      <td>...</td>\n",
       "      <td>41</td>\n",
       "      <td>4</td>\n",
       "      <td>1</td>\n",
       "      <td>6</td>\n",
       "      <td>37</td>\n",
       "      <td>1</td>\n",
       "      <td>7</td>\n",
       "      <td>84</td>\n",
       "      <td>10</td>\n",
       "      <td>13150000</td>\n",
       "    </tr>\n",
       "    <tr>\n",
       "      <th>29172</th>\n",
       "      <td>29175</td>\n",
       "      <td>2015-04-16</td>\n",
       "      <td>59.0</td>\n",
       "      <td>33.0</td>\n",
       "      <td>20.0</td>\n",
       "      <td>22.0</td>\n",
       "      <td>1.0</td>\n",
       "      <td>2000.0</td>\n",
       "      <td>10.0</td>\n",
       "      <td>10.0</td>\n",
       "      <td>...</td>\n",
       "      <td>5</td>\n",
       "      <td>1</td>\n",
       "      <td>0</td>\n",
       "      <td>9</td>\n",
       "      <td>24</td>\n",
       "      <td>0</td>\n",
       "      <td>3</td>\n",
       "      <td>51</td>\n",
       "      <td>8</td>\n",
       "      <td>11000000</td>\n",
       "    </tr>\n",
       "  </tbody>\n",
       "</table>\n",
       "<p>4 rows × 292 columns</p>\n",
       "</div>"
      ],
      "text/plain": [
       "          id  timestamp  full_sq  life_sq  floor  max_floor  material  \\\n",
       "11621  11624 2013-10-28     40.0     19.0   17.0       17.0       1.0   \n",
       "17764  17767 2014-04-23     58.0     34.0    1.0        2.0       1.0   \n",
       "26713  26716 2014-12-18     51.0     30.0   14.0       17.0       1.0   \n",
       "29172  29175 2015-04-16     59.0     33.0   20.0       22.0       1.0   \n",
       "\n",
       "       build_year  num_room  kitch_sq    ...      cafe_count_5000_price_2500  \\\n",
       "11621      2011.0      19.0       7.0    ...                               1   \n",
       "17764      1992.0      10.0      10.0    ...                               0   \n",
       "26713      1984.0      17.0       8.0    ...                              41   \n",
       "29172      2000.0      10.0      10.0    ...                               5   \n",
       "\n",
       "      cafe_count_5000_price_4000 cafe_count_5000_price_high  \\\n",
       "11621                          1                          0   \n",
       "17764                          0                          0   \n",
       "26713                          4                          1   \n",
       "29172                          1                          0   \n",
       "\n",
       "       big_church_count_5000  church_count_5000  mosque_count_5000  \\\n",
       "11621                      2                 11                  0   \n",
       "17764                      0                  2                  0   \n",
       "26713                      6                 37                  1   \n",
       "29172                      9                 24                  0   \n",
       "\n",
       "       leisure_count_5000  sport_count_5000  market_count_5000  price_doc  \n",
       "11621                   0                 6                  0    2630000  \n",
       "17764                   2                 8                  1    6000000  \n",
       "26713                   7                84                 10   13150000  \n",
       "29172                   3                51                  8   11000000  \n",
       "\n",
       "[4 rows x 292 columns]"
      ]
     },
     "execution_count": 16,
     "metadata": {},
     "output_type": "execute_result"
    }
   ],
   "source": [
    "# full square is too little for so many rooms\n",
    "train[(train.num_room > 6) & (train.full_sq < 100)]"
   ]
  },
  {
   "cell_type": "code",
   "execution_count": 17,
   "metadata": {
    "collapsed": true,
    "hidden": true
   },
   "outputs": [],
   "source": [
    "train.loc[train.num_room == 0, 'num_room'] = np.NaN\n",
    "train.loc[(train.num_room > 6) & (train.full_sq < 100), 'num_room'] = np.NaN"
   ]
  },
  {
   "cell_type": "code",
   "execution_count": 18,
   "metadata": {
    "collapsed": true,
    "hidden": true
   },
   "outputs": [],
   "source": [
    "test.loc[test.num_room == 0, 'num_room'] = np.NaN\n",
    "test.loc[(test.num_room > 6) & (test.full_sq < 100), 'num_room'] = np.NaN"
   ]
  },
  {
   "cell_type": "markdown",
   "metadata": {
    "heading_collapsed": true
   },
   "source": [
    "## Floor and kitchen"
   ]
  },
  {
   "cell_type": "code",
   "execution_count": 19,
   "metadata": {
    "collapsed": true,
    "hidden": true
   },
   "outputs": [],
   "source": [
    "train.loc[train.floor == 0, 'floor'] = np.NaN\n",
    "test.loc[test.floor == 0, 'floor'] = np.NaN"
   ]
  },
  {
   "cell_type": "code",
   "execution_count": 20,
   "metadata": {
    "collapsed": true,
    "hidden": true
   },
   "outputs": [],
   "source": [
    "train.loc[train.floor > train.max_floor, 'max_floor'] = np.NaN\n",
    "test.loc[test.floor > test.max_floor, 'max_floor'] = np.NaN"
   ]
  },
  {
   "cell_type": "code",
   "execution_count": 21,
   "metadata": {
    "collapsed": true,
    "hidden": true
   },
   "outputs": [],
   "source": [
    "train.loc[train.kitch_sq >= train.life_sq, 'kitch_sq'] = np.NAN\n",
    "test.loc[test.kitch_sq >= test.life_sq, 'kitch_sq'] = np.NAN"
   ]
  },
  {
   "cell_type": "markdown",
   "metadata": {
    "heading_collapsed": true
   },
   "source": [
    "## Remove very cheap and very expensive prices"
   ]
  },
  {
   "cell_type": "code",
   "execution_count": 22,
   "metadata": {
    "collapsed": true,
    "hidden": true
   },
   "outputs": [],
   "source": [
    "train = train[train.price_doc/train.full_sq <= 600000]\n",
    "train = train[train.price_doc/train.full_sq >= 10000]"
   ]
  },
  {
   "cell_type": "markdown",
   "metadata": {},
   "source": [
    "# Some feature engineering"
   ]
  },
  {
   "cell_type": "markdown",
   "metadata": {},
   "source": [
    "## Make month another feature, add month - year count and week-year counts"
   ]
  },
  {
   "cell_type": "code",
   "execution_count": 23,
   "metadata": {
    "collapsed": true
   },
   "outputs": [],
   "source": [
    "train['month'] = train.timestamp.dt.month\n",
    "test['month'] = test.timestamp.dt.month\n",
    "\n",
    "month_year = (train.timestamp.dt.month + train.timestamp.dt.year * 100)\n",
    "month_year_cnt_map = month_year.value_counts().to_dict()\n",
    "train['month_year_cnt'] = month_year.map(month_year_cnt_map)\n",
    "\n",
    "month_year = (test.timestamp.dt.month + test.timestamp.dt.year * 100)\n",
    "month_year_cnt_map = month_year.value_counts().to_dict()\n",
    "test['month_year_cnt'] = month_year.map(month_year_cnt_map)\n",
    "\n",
    "week_year = (train.timestamp.dt.weekofyear + train.timestamp.dt.year * 100)\n",
    "week_year_cnt_map = week_year.value_counts().to_dict()\n",
    "train['week_year_cnt'] = week_year.map(week_year_cnt_map)\n",
    "\n",
    "week_year = (test.timestamp.dt.weekofyear + test.timestamp.dt.year * 100)\n",
    "week_year_cnt_map = week_year.value_counts().to_dict()\n",
    "test['week_year_cnt'] = week_year.map(week_year_cnt_map)"
   ]
  },
  {
   "cell_type": "markdown",
   "metadata": {},
   "source": [
    "## Relative kitchen, relative floor and room_size new features"
   ]
  },
  {
   "cell_type": "code",
   "execution_count": 24,
   "metadata": {
    "collapsed": true
   },
   "outputs": [],
   "source": [
    "train['rel_floor'] = train['floor'] / train['max_floor'].astype(float)\n",
    "train['rel_kitch_sq'] = train['kitch_sq'] / train['full_sq'].astype(float)\n",
    "\n",
    "test['rel_floor'] = test['floor'] / test['max_floor'].astype(float)\n",
    "test['rel_kitch_sq'] = test['kitch_sq'] / test['full_sq'].astype(float)\n",
    "\n",
    "train['room_size'] = train['life_sq'] / train['num_room'].astype(float)\n",
    "test['room_size'] = test['life_sq'] / test['num_room'].astype(float)"
   ]
  },
  {
   "cell_type": "markdown",
   "metadata": {
    "collapsed": true
   },
   "source": [
    "## Encode the features"
   ]
  },
  {
   "cell_type": "code",
   "execution_count": 25,
   "metadata": {
    "collapsed": true
   },
   "outputs": [],
   "source": [
    "y_train = train[\"price_doc\"]\n",
    "id_train = train['id']\n",
    "id_test = test['id']\n",
    "\n",
    "x_train = train.drop([\"id\", \"timestamp\", \"price_doc\"], axis=1)\n",
    "x_test = test.drop([\"id\", \"timestamp\"], axis=1)\n",
    "\n",
    "num_train = len(x_train)\n",
    "x_all = pd.concat([x_train, x_test])\n",
    "\n",
    "for c in x_all.columns:\n",
    "    if x_all[c].dtype == 'object':\n",
    "        lbl = preprocessing.LabelEncoder()\n",
    "        lbl.fit(list(x_all[c].values))\n",
    "        x_all[c] = lbl.transform(list(x_all[c].values))\n",
    "        \n",
    "x_train = x_all[:num_train]\n",
    "x_test = x_all[num_train:]"
   ]
  },
  {
   "cell_type": "markdown",
   "metadata": {},
   "source": [
    "# Creating some models"
   ]
  },
  {
   "cell_type": "markdown",
   "metadata": {},
   "source": [
    "## First xgboost"
   ]
  },
  {
   "cell_type": "code",
   "execution_count": 45,
   "metadata": {
    "collapsed": true
   },
   "outputs": [],
   "source": [
    "y_trainn = np.log1p(train['price_doc'].values)"
   ]
  },
  {
   "cell_type": "code",
   "execution_count": 49,
   "metadata": {
    "collapsed": true
   },
   "outputs": [],
   "source": [
    "num_val = int(num_train * 0.2)\n",
    "X_train = x_train[:num_train-num_val]\n",
    "X_val = x_train[num_train-num_val:]\n",
    "Y_train = y_train[:num_train-num_val]\n",
    "Y_val = y_train[num_train-num_val:]"
   ]
  },
  {
   "cell_type": "code",
   "execution_count": 50,
   "metadata": {
    "collapsed": true
   },
   "outputs": [],
   "source": [
    "\n",
    "dtrain_all_1 = xgb.DMatrix(x_train, y_train, feature_names = x_train.columns)\n",
    "dtrain_1 = xgb.DMatrix(X_train, Y_train, feature_names = x_train.columns)\n",
    "dval_1 = xgb.DMatrix(X_val, Y_val, feature_names = x_train.columns)\n",
    "dtest_1 = xgb.DMatrix(x_test, feature_names = x_train.columns)\n"
   ]
  },
  {
   "cell_type": "code",
   "execution_count": null,
   "metadata": {
    "collapsed": true
   },
   "outputs": [],
   "source": [
    "from sklearn.metrics import ME"
   ]
  },
  {
   "cell_type": "code",
   "execution_count": 51,
   "metadata": {},
   "outputs": [
    {
     "name": "stdout",
     "output_type": "stream",
     "text": [
      "[0]\tval-rmse:9.20172e+06\n",
      "Will train until val-rmse hasn't improved in 20 rounds.\n",
      "[20]\tval-rmse:4.7773e+06\n",
      "[40]\tval-rmse:3.40382e+06\n",
      "[60]\tval-rmse:3.0172e+06\n",
      "[80]\tval-rmse:2.89699e+06\n",
      "[100]\tval-rmse:2.84e+06\n",
      "[120]\tval-rmse:2.81565e+06\n",
      "[140]\tval-rmse:2.80326e+06\n",
      "[160]\tval-rmse:2.79868e+06\n",
      "[180]\tval-rmse:2.79409e+06\n",
      "[200]\tval-rmse:2.79331e+06\n",
      "Stopping. Best iteration:\n",
      "[193]\tval-rmse:2.7913e+06\n",
      "\n",
      "CPU times: user 5min 9s, sys: 390 ms, total: 5min 9s\n",
      "Wall time: 1min 25s\n"
     ]
    }
   ],
   "source": [
    "%%time\n",
    "xgb_params = {\n",
    "    'eta': 0.05,\n",
    "    'max_depth': 8,\n",
    "    'subsample': 0.8,\n",
    "    'colsample_bytree': 0.7,\n",
    "    'objective': 'reg:linear',\n",
    "    'eval_metric': 'rmse',\n",
    "    'silent': 1\n",
    "}\n",
    "\n",
    "partial_model_1 = xgb.train(xgb_params, dtrain_1, num_boost_round=1000, \n",
    "                            evals=[(dval_1, 'val')],\n",
    "                       early_stopping_rounds=20, verbose_eval=20)"
   ]
  },
  {
   "cell_type": "code",
   "execution_count": 56,
   "metadata": {},
   "outputs": [],
   "source": [
    "num_boost_round = partial_model_1.best_iteration\n",
    "model_1 = xgb.train(dict(xgb_params, silent=0), dtrain_all_1, num_boost_round=num_boost_round)"
   ]
  },
  {
   "cell_type": "code",
   "execution_count": 60,
   "metadata": {},
   "outputs": [],
   "source": [
    "y_predict_1 = model_1.predict(dtest_1)\n",
    "\n",
    "id_test = test['id']\n",
    "\n",
    "output_1 = pd.DataFrame({'id': id_test, 'price_doc': y_predict_1})\n",
    "train_1 =  pd.DataFrame({'id': id_train, 'mdl1': model_1.predict(dtrain_all_1)})"
   ]
  },
  {
   "cell_type": "code",
   "execution_count": 62,
   "metadata": {},
   "outputs": [
    {
     "name": "stdout",
     "output_type": "stream",
     "text": [
      "RMSLE is: 0.3689815323449241\n"
     ]
    }
   ],
   "source": [
    "print('RMSLE is:', rmsle(train_1.mdl1, train.price_doc))"
   ]
  },
  {
   "cell_type": "markdown",
   "metadata": {},
   "source": [
    "## Second xgboost"
   ]
  },
  {
   "cell_type": "code",
   "execution_count": 63,
   "metadata": {
    "collapsed": true
   },
   "outputs": [],
   "source": [
    "macro_cols = [\"balance_trade\", \"balance_trade_growth\", \"eurrub\", \"average_provision_of_build_contract\",\n",
    "\"micex_rgbi_tr\", \"micex_cbi_tr\", \"deposits_rate\", \"mortgage_value\", \"mortgage_rate\",\n",
    "\"income_per_cap\", \"rent_price_4+room_bus\", \"museum_visitis_per_100_cap\", \"apartment_build\"]\n",
    "\n",
    "df_macro = pd.read_csv(\"macro.csv\", parse_dates=['timestamp'], usecols=['timestamp'] + macro_cols)"
   ]
  },
  {
   "cell_type": "code",
   "execution_count": 64,
   "metadata": {
    "collapsed": true
   },
   "outputs": [],
   "source": [
    "ylog_train_all = np.log1p(train['price_doc'].values)\n",
    "id_test = test['id']\n",
    "\n",
    "y_train = train[\"price_doc\"]\n",
    "id_train = train['id']\n",
    "\n",
    "df_train = train.drop([\"id\", \"price_doc\"], axis=1)\n",
    "df_test = test.drop([\"id\"], axis=1)\n",
    "\n",
    "num_train = len(df_train)\n",
    "df_all = pd.concat([df_train, df_test])\n",
    "df_all = pd.merge_ordered(df_all, df_macro, on='timestamp', how='left')\n",
    "\n",
    "df_all.drop(['timestamp'], axis=1, inplace=True)\n",
    "\n",
    "df_numeric = df_all.select_dtypes(exclude=['object'])\n",
    "df_obj = df_all.select_dtypes(include=['object']).copy()\n",
    "\n",
    "for c in df_obj:\n",
    "    df_obj[c] = pd.factorize(df_obj[c])[0]\n",
    "\n",
    "df_values = pd.concat([df_numeric, df_obj], axis=1)"
   ]
  },
  {
   "cell_type": "code",
   "execution_count": 65,
   "metadata": {
    "collapsed": true
   },
   "outputs": [],
   "source": [
    "X_all = df_values.values\n",
    "\n",
    "# Create a validation set, with last 20% of data\n",
    "num_val = int(num_train * 0.2) \n",
    "\n",
    "X_train_all = X_all[:num_train]\n",
    "X_train = X_all[:num_train-num_val]\n",
    "X_val = X_all[num_train-num_val:num_train]\n",
    "\n",
    "X_test = X_all[num_train:]\n",
    "\n",
    "df_columns = df_values.columns"
   ]
  },
  {
   "cell_type": "code",
   "execution_count": 66,
   "metadata": {
    "collapsed": true
   },
   "outputs": [],
   "source": [
    "ylog_train = ylog_train_all[:-num_val]\n",
    "ylog_val = ylog_train_all[-num_val:]"
   ]
  },
  {
   "cell_type": "code",
   "execution_count": 67,
   "metadata": {
    "collapsed": true
   },
   "outputs": [],
   "source": [
    "dtrain_all = xgb.DMatrix(X_train_all, ylog_train_all, feature_names=df_columns)\n",
    "dtrain = xgb.DMatrix(X_train, ylog_train, feature_names=df_columns)\n",
    "dval = xgb.DMatrix(X_val, ylog_val, feature_names=df_columns)\n",
    "dtest = xgb.DMatrix(X_test, feature_names=df_columns)"
   ]
  },
  {
   "cell_type": "code",
   "execution_count": 68,
   "metadata": {},
   "outputs": [
    {
     "name": "stdout",
     "output_type": "stream",
     "text": [
      "[0]\tval-rmse:14.4763\n",
      "Will train until val-rmse hasn't improved in 20 rounds.\n",
      "[20]\tval-rmse:5.27326\n",
      "[40]\tval-rmse:1.99306\n",
      "[60]\tval-rmse:0.867193\n",
      "[80]\tval-rmse:0.533415\n",
      "[100]\tval-rmse:0.452979\n",
      "[120]\tval-rmse:0.433\n",
      "[140]\tval-rmse:0.427332\n",
      "[160]\tval-rmse:0.424904\n",
      "[180]\tval-rmse:0.42444\n",
      "[200]\tval-rmse:0.423856\n",
      "[220]\tval-rmse:0.423451\n",
      "[240]\tval-rmse:0.423446\n",
      "Stopping. Best iteration:\n",
      "[224]\tval-rmse:0.423304\n",
      "\n"
     ]
    }
   ],
   "source": [
    "xgb_params = {\n",
    "    'eta': 0.05,\n",
    "    'max_depth': 5,\n",
    "    'subsample': 1.0,\n",
    "    'colsample_bytree': 0.7,\n",
    "    'objective': 'reg:linear',\n",
    "    'eval_metric': 'rmse',\n",
    "    'silent': 1\n",
    "}\n",
    "\n",
    "partial_model = xgb.train(xgb_params, dtrain, num_boost_round=1000, evals=[(dval, 'val')],\n",
    "                       early_stopping_rounds=20, verbose_eval=20)"
   ]
  },
  {
   "cell_type": "code",
   "execution_count": 69,
   "metadata": {
    "collapsed": true
   },
   "outputs": [],
   "source": [
    "num_boost_round = partial_model.best_iteration\n",
    "model_2 = xgb.train(dict(xgb_params, silent=0), dtrain_all, num_boost_round=num_boost_round)"
   ]
  },
  {
   "cell_type": "code",
   "execution_count": 70,
   "metadata": {
    "collapsed": true
   },
   "outputs": [],
   "source": [
    "ylog_pred = model_2.predict(dtest)\n",
    "y_pred = np.exp(ylog_pred) - 1\n",
    "\n",
    "output_2 = pd.DataFrame({'id': id_test, 'price_doc': y_pred})\n"
   ]
  },
  {
   "cell_type": "code",
   "execution_count": 72,
   "metadata": {},
   "outputs": [],
   "source": [
    "ylog_train = model_2.predict(dtrain_all)\n",
    "ylogs = np.exp(ylog_train) - 1\n",
    "train_2 = pd.DataFrame({'id':id_train, 'price_doc': ylogs})"
   ]
  },
  {
   "cell_type": "code",
   "execution_count": 73,
   "metadata": {},
   "outputs": [
    {
     "name": "stdout",
     "output_type": "stream",
     "text": [
      "RMSLE is:  0.4065264144868742\n"
     ]
    }
   ],
   "source": [
    "print('RMSLE is: ', rmsle(train_2.price_doc, train.price_doc))"
   ]
  },
  {
   "cell_type": "markdown",
   "metadata": {},
   "source": [
    "## THird Light GBM"
   ]
  },
  {
   "cell_type": "code",
   "execution_count": 74,
   "metadata": {
    "collapsed": true
   },
   "outputs": [],
   "source": [
    "RS=1\n",
    "np.random.seed(RS)\n",
    "ROUNDS = 1500 # 1300,1400 all works fine\n",
    "params = {\n",
    "    'objective': 'regression',\n",
    "        'metric': 'rmse',\n",
    "        'boosting': 'gbdt',\n",
    "        'learning_rate': 0.01 , #small learn rate, large number of iterations\n",
    "        'verbose': 0,\n",
    "        'num_leaves': 2 ** 5,\n",
    "        'bagging_fraction': 0.95,\n",
    "        'bagging_freq': 1,\n",
    "        'bagging_seed': RS,\n",
    "        'feature_fraction': 0.7,\n",
    "        'feature_fraction_seed': RS,\n",
    "        'max_bin': 100,\n",
    "        'max_depth': 7,\n",
    "        'num_rounds': ROUNDS,\n",
    "    }"
   ]
  },
  {
   "cell_type": "code",
   "execution_count": 75,
   "metadata": {
    "collapsed": true
   },
   "outputs": [],
   "source": [
    "train.loc[(train.product_type=='Investment') & (train.build_year<2000),'price_doc']*=0.9 \n",
    "train.loc[train.product_type!='Investment','price_doc']*=0.969 #Louis/Andy's magic numbe\n",
    "\n",
    "y_train = train[\"price_doc\"]\n",
    "id_train = train['id']\n",
    "\n",
    "x_train = train.drop([\"id\", \"timestamp\", \"price_doc\"], axis=1)\n",
    "x_test = test.drop([\"id\", \"timestamp\"], axis=1)\n",
    "\n",
    "num_train = len(x_train)\n",
    "x_all = pd.concat([x_train, x_test])\n",
    "\n",
    "for c in x_all.columns:\n",
    "    if x_all[c].dtype == 'object':\n",
    "        lbl = preprocessing.LabelEncoder()\n",
    "        lbl.fit(list(x_all[c].values))\n",
    "        x_all[c] = lbl.transform(list(x_all[c].values))\n",
    "        \n",
    "x_train = x_all[:num_train]\n",
    "x_test = x_all[num_train:]"
   ]
  },
  {
   "cell_type": "code",
   "execution_count": 76,
   "metadata": {},
   "outputs": [
    {
     "name": "stderr",
     "output_type": "stream",
     "text": [
      "/home/user/anaconda3/lib/python3.6/site-packages/lightgbm/engine.py:102: UserWarning: Found `num_rounds` in params. Will use it instead of argument\n",
      "  warnings.warn(\"Found `{}` in params. Will use it instead of argument\".format(alias))\n"
     ]
    }
   ],
   "source": [
    "y_train = np.log(y_train)\n",
    "train_lgb = lgb.Dataset(x_train,y_train)\n",
    "model_lgb = lgb.train(params,train_lgb,num_boost_round=ROUNDS)\n",
    "predict = model_lgb.predict(x_test)\n",
    "predict = np.exp(predict)"
   ]
  },
  {
   "cell_type": "code",
   "execution_count": 77,
   "metadata": {
    "collapsed": true
   },
   "outputs": [],
   "source": [
    "output_3 = pd.DataFrame({'id': id_test, 'price_doc': predict})"
   ]
  },
  {
   "cell_type": "code",
   "execution_count": 78,
   "metadata": {
    "collapsed": true
   },
   "outputs": [],
   "source": [
    "train_3 = model_lgb.predict(x_train)\n",
    "train_3 = pd.DataFrame({'id': id_train, 'price_doc': np.exp(train_3)})"
   ]
  },
  {
   "cell_type": "code",
   "execution_count": 79,
   "metadata": {},
   "outputs": [
    {
     "name": "stdout",
     "output_type": "stream",
     "text": [
      "RMSLE is: 0.37364850523449994\n"
     ]
    }
   ],
   "source": [
    "print('RMSLE is:', rmsle(train_3.price_doc, train.price_doc))"
   ]
  },
  {
   "cell_type": "markdown",
   "metadata": {},
   "source": [
    "## Stacking"
   ]
  },
  {
   "cell_type": "code",
   "execution_count": 80,
   "metadata": {
    "collapsed": true
   },
   "outputs": [],
   "source": [
    "train_preds = train_1.merge(train_2, on = 'id')\n",
    "train_preds = train_preds.merge(train_3, on = 'id')\n",
    "train_preds.columns = ['id', 'xgb1', 'xgb2', 'lgm']\n",
    "train_all = train_preds.drop('id', axis=1)"
   ]
  },
  {
   "cell_type": "code",
   "execution_count": 81,
   "metadata": {
    "collapsed": true
   },
   "outputs": [],
   "source": [
    "num_train = len(train_all)\n",
    "num_val = int(num_train * 0.2) \n",
    "X_train = train_all[:num_train-num_val]\n",
    "X_val = train_all[num_train-num_val:]\n",
    "y_train = train.price_doc[:num_train-num_val]\n",
    "y_val = train.price_doc[num_train-num_val:]"
   ]
  },
  {
   "cell_type": "code",
   "execution_count": 82,
   "metadata": {
    "collapsed": true
   },
   "outputs": [],
   "source": [
    "predictions = output_1.merge(output_2, on = 'id')\n",
    "predictions = predictions.merge(output_3, on = 'id')\n",
    "predictions.columns = ['id', 'xgb1', 'xgb2', 'lgb']\n",
    "final_preds = predictions.drop('id', axis=1)"
   ]
  },
  {
   "cell_type": "code",
   "execution_count": 83,
   "metadata": {
    "collapsed": true
   },
   "outputs": [],
   "source": [
    "dtrain_all = xgb.DMatrix(train_all, train.price_doc, feature_names = train_all.columns)\n",
    "dtrain = xgb.DMatrix(X_train, y_train, feature_names = train_all.columns)\n",
    "dval = xgb.DMatrix(X_val, y_val, feature_names = train_all.columns)\n",
    "dtest = xgb.DMatrix(final_preds, feature_names = train_all.columns)"
   ]
  },
  {
   "cell_type": "code",
   "execution_count": 84,
   "metadata": {},
   "outputs": [
    {
     "name": "stdout",
     "output_type": "stream",
     "text": [
      "[0]\tval-rmse:8.61014e+06\n",
      "Will train until val-rmse hasn't improved in 20 rounds.\n",
      "[20]\tval-rmse:3.31533e+06\n",
      "[40]\tval-rmse:1.63312e+06\n",
      "[60]\tval-rmse:1.24559e+06\n",
      "[80]\tval-rmse:1.16218e+06\n",
      "[100]\tval-rmse:1.1305e+06\n",
      "[120]\tval-rmse:1.11194e+06\n",
      "[140]\tval-rmse:1.10109e+06\n",
      "[160]\tval-rmse:1.09316e+06\n",
      "[180]\tval-rmse:1.08834e+06\n",
      "[200]\tval-rmse:1.08482e+06\n",
      "[220]\tval-rmse:1.0823e+06\n",
      "[240]\tval-rmse:1.0801e+06\n",
      "[260]\tval-rmse:1.0785e+06\n",
      "[280]\tval-rmse:1.07775e+06\n",
      "[300]\tval-rmse:1.07633e+06\n",
      "[320]\tval-rmse:1.07537e+06\n",
      "Stopping. Best iteration:\n",
      "[319]\tval-rmse:1.07534e+06\n",
      "\n"
     ]
    }
   ],
   "source": [
    "xgb_params = {\n",
    "    'eta': 0.05,\n",
    "    'max_depth': 5,\n",
    "    'subsample': 1.0,\n",
    "    'colsample_bytree': 0.7,\n",
    "    'objective': 'reg:linear',\n",
    "    'eval_metric': 'rmse',\n",
    "    'silent': 1\n",
    "}\n",
    "final_model = xgb.train(xgb_params, dtrain, num_boost_round=1000, evals=[(dval, 'val')],\n",
    "                       early_stopping_rounds=20, verbose_eval=20)"
   ]
  },
  {
   "cell_type": "code",
   "execution_count": 85,
   "metadata": {
    "collapsed": true
   },
   "outputs": [],
   "source": [
    "num_boost_round = final_model.best_iteration\n",
    "model_f = xgb.train(dict(xgb_params, silent=0), dtrain_all, num_boost_round=num_boost_round)"
   ]
  },
  {
   "cell_type": "code",
   "execution_count": 88,
   "metadata": {},
   "outputs": [
    {
     "name": "stdout",
     "output_type": "stream",
     "text": [
      "Eventual train RMSLE is: 0.2888362221602922\n"
     ]
    }
   ],
   "source": [
    "print('Eventual train RMSLE is:', rmsle(train.price_doc, model_f.predict(dtrain_all)))"
   ]
  },
  {
   "cell_type": "code",
   "execution_count": 87,
   "metadata": {
    "collapsed": true
   },
   "outputs": [],
   "source": [
    "output_final = pd.DataFrame({'id': id_test, 'price_doc': model_f.predict(dtest)})"
   ]
  },
  {
   "cell_type": "code",
   "execution_count": 89,
   "metadata": {
    "collapsed": true
   },
   "outputs": [],
   "source": [
    "output_final.to_csv('Grigor_Nalbandyan_housing.csv', index=False)"
   ]
  },
  {
   "cell_type": "code",
   "execution_count": null,
   "metadata": {
    "collapsed": true
   },
   "outputs": [],
   "source": []
  }
 ],
 "metadata": {
  "kernelspec": {
   "display_name": "Python 3",
   "language": "python",
   "name": "python3"
  },
  "language_info": {
   "codemirror_mode": {
    "name": "ipython",
    "version": 3
   },
   "file_extension": ".py",
   "mimetype": "text/x-python",
   "name": "python",
   "nbconvert_exporter": "python",
   "pygments_lexer": "ipython3",
   "version": "3.6.4"
  }
 },
 "nbformat": 4,
 "nbformat_minor": 2
}
