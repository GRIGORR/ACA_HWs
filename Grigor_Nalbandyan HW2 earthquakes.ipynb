{
 "cells": [
  {
   "cell_type": "markdown",
   "metadata": {
    "heading_collapsed": true
   },
   "source": [
    "## Tips on practical use"
   ]
  },
  {
   "cell_type": "markdown",
   "metadata": {
    "hidden": true
   },
   "source": [
    "Decision trees tend to overfit on data with a large number of features. Getting the right ratio of samples to number of features is important, since a tree with few samples in high dimensional space is very likely to overfit.\n",
    "\n",
    "\n",
    "Consider performing dimensionality reduction (PCA, ICA, or Feature selection) beforehand to give your tree a better chance of finding features that are discriminative.\n",
    "\n",
    "\n",
    "Visualise your tree as you are training by using the export function. Use max_depth=3 as an initial tree depth to get a feel for how the tree is fitting to your data, and then increase the depth.\n",
    "\n",
    "\n",
    "Remember that the number of samples required to populate the tree doubles for each additional level the tree grows to. Use max_depth to control the size of the tree to prevent overfitting.\n",
    "\n",
    "\n",
    "Use min_samples_split or min_samples_leaf to control the number of samples at a leaf node. A very small number will usually mean the tree will overfit, whereas a large number will prevent the tree from learning the data.\n",
    "\n",
    "Try min_samples_leaf=5 as an initial value. If the sample size varies greatly, a float number can be used as percentage in these two parameters. The main difference between the two is that min_samples_leaf guarantees a minimum number of samples in a leaf, while min_samples_split can create arbitrary small leaves, though min_samples_split is more common in the literature.\n",
    "\n",
    "\n",
    "Balance your dataset before training to prevent the tree from being biased toward the classes that are dominant. Class balancing can be done by sampling an equal number of samples from each class, or preferably by normalizing the sum of the sample weights (sample_weight) for each class to the same value. Also note that weight-based pre-pruning criteria, such as min_weight_fraction_leaf, will then be less biased toward dominant classes than criteria that are not aware of the sample weights, like min_samples_leaf.\n",
    "\n",
    "\n",
    "If the samples are weighted, it will be easier to optimize the tree structure using weight-based pre-pruning criterion such as min_weight_fraction_leaf, which ensure that leaf nodes contain at least a fraction of the overall sum of the sample weights.\n",
    "\n",
    "\n",
    "If the input matrix X is very sparse, it is recommended to convert to sparse csc_matrix before calling fit and sparse csr_matrix before calling predict. Training time can be orders of magnitude faster for a sparse matrix input compared to a dense matrix when features have zero values in most of the samples."
   ]
  },
  {
   "cell_type": "markdown",
   "metadata": {},
   "source": [
    "## Homework\n",
    "\n",
    "1. Prove that ensemble of weak independent learners forms a strong learner.\n",
    "\n",
    "2. Download dataset from https://www.kaggle.com/usgs/earthquake-database . Clean the data and predict magnitude using any tree-based method. Quality metric: 2-1 croosvalidated mean squared error. Visualise your results\n"
   ]
  },
  {
   "cell_type": "code",
   "execution_count": 27,
   "metadata": {
    "collapsed": true
   },
   "outputs": [],
   "source": [
    "import pandas as pd\n",
    "import numpy as np\n",
    "import matplotlib.pyplot as plt\n",
    "import seaborn as sns\n",
    "%matplotlib inline"
   ]
  },
  {
   "cell_type": "code",
   "execution_count": 28,
   "metadata": {},
   "outputs": [
    {
     "data": {
      "text/html": [
       "<div>\n",
       "<style scoped>\n",
       "    .dataframe tbody tr th:only-of-type {\n",
       "        vertical-align: middle;\n",
       "    }\n",
       "\n",
       "    .dataframe tbody tr th {\n",
       "        vertical-align: top;\n",
       "    }\n",
       "\n",
       "    .dataframe thead th {\n",
       "        text-align: right;\n",
       "    }\n",
       "</style>\n",
       "<table border=\"1\" class=\"dataframe\">\n",
       "  <thead>\n",
       "    <tr style=\"text-align: right;\">\n",
       "      <th></th>\n",
       "      <th>Date</th>\n",
       "      <th>Latitude</th>\n",
       "      <th>Longitude</th>\n",
       "      <th>Type</th>\n",
       "      <th>Depth</th>\n",
       "      <th>Depth Error</th>\n",
       "      <th>Depth Seismic Stations</th>\n",
       "      <th>Magnitude</th>\n",
       "      <th>Magnitude Type</th>\n",
       "      <th>Azimuthal Gap</th>\n",
       "      <th>Root Mean Square</th>\n",
       "      <th>Source</th>\n",
       "      <th>Location Source</th>\n",
       "      <th>Magnitude Source</th>\n",
       "      <th>Status</th>\n",
       "    </tr>\n",
       "  </thead>\n",
       "  <tbody>\n",
       "    <tr>\n",
       "      <th>0</th>\n",
       "      <td>1965-01-02</td>\n",
       "      <td>19.246</td>\n",
       "      <td>145.616</td>\n",
       "      <td>Earthquake</td>\n",
       "      <td>131.6</td>\n",
       "      <td>NaN</td>\n",
       "      <td>NaN</td>\n",
       "      <td>6.0</td>\n",
       "      <td>MW</td>\n",
       "      <td>NaN</td>\n",
       "      <td>NaN</td>\n",
       "      <td>ISCGEM</td>\n",
       "      <td>ISCGEM</td>\n",
       "      <td>ISCGEM</td>\n",
       "      <td>Automatic</td>\n",
       "    </tr>\n",
       "    <tr>\n",
       "      <th>1</th>\n",
       "      <td>1965-01-04</td>\n",
       "      <td>1.863</td>\n",
       "      <td>127.352</td>\n",
       "      <td>Earthquake</td>\n",
       "      <td>80.0</td>\n",
       "      <td>NaN</td>\n",
       "      <td>NaN</td>\n",
       "      <td>5.8</td>\n",
       "      <td>MW</td>\n",
       "      <td>NaN</td>\n",
       "      <td>NaN</td>\n",
       "      <td>ISCGEM</td>\n",
       "      <td>ISCGEM</td>\n",
       "      <td>ISCGEM</td>\n",
       "      <td>Automatic</td>\n",
       "    </tr>\n",
       "    <tr>\n",
       "      <th>2</th>\n",
       "      <td>1965-01-05</td>\n",
       "      <td>-20.579</td>\n",
       "      <td>-173.972</td>\n",
       "      <td>Earthquake</td>\n",
       "      <td>20.0</td>\n",
       "      <td>NaN</td>\n",
       "      <td>NaN</td>\n",
       "      <td>6.2</td>\n",
       "      <td>MW</td>\n",
       "      <td>NaN</td>\n",
       "      <td>NaN</td>\n",
       "      <td>ISCGEM</td>\n",
       "      <td>ISCGEM</td>\n",
       "      <td>ISCGEM</td>\n",
       "      <td>Automatic</td>\n",
       "    </tr>\n",
       "    <tr>\n",
       "      <th>3</th>\n",
       "      <td>1965-01-08</td>\n",
       "      <td>-59.076</td>\n",
       "      <td>-23.557</td>\n",
       "      <td>Earthquake</td>\n",
       "      <td>15.0</td>\n",
       "      <td>NaN</td>\n",
       "      <td>NaN</td>\n",
       "      <td>5.8</td>\n",
       "      <td>MW</td>\n",
       "      <td>NaN</td>\n",
       "      <td>NaN</td>\n",
       "      <td>ISCGEM</td>\n",
       "      <td>ISCGEM</td>\n",
       "      <td>ISCGEM</td>\n",
       "      <td>Automatic</td>\n",
       "    </tr>\n",
       "    <tr>\n",
       "      <th>4</th>\n",
       "      <td>1965-01-09</td>\n",
       "      <td>11.938</td>\n",
       "      <td>126.427</td>\n",
       "      <td>Earthquake</td>\n",
       "      <td>15.0</td>\n",
       "      <td>NaN</td>\n",
       "      <td>NaN</td>\n",
       "      <td>5.8</td>\n",
       "      <td>MW</td>\n",
       "      <td>NaN</td>\n",
       "      <td>NaN</td>\n",
       "      <td>ISCGEM</td>\n",
       "      <td>ISCGEM</td>\n",
       "      <td>ISCGEM</td>\n",
       "      <td>Automatic</td>\n",
       "    </tr>\n",
       "  </tbody>\n",
       "</table>\n",
       "</div>"
      ],
      "text/plain": [
       "        Date  Latitude  Longitude        Type  Depth  Depth Error  \\\n",
       "0 1965-01-02    19.246    145.616  Earthquake  131.6          NaN   \n",
       "1 1965-01-04     1.863    127.352  Earthquake   80.0          NaN   \n",
       "2 1965-01-05   -20.579   -173.972  Earthquake   20.0          NaN   \n",
       "3 1965-01-08   -59.076    -23.557  Earthquake   15.0          NaN   \n",
       "4 1965-01-09    11.938    126.427  Earthquake   15.0          NaN   \n",
       "\n",
       "   Depth Seismic Stations  Magnitude Magnitude Type  Azimuthal Gap  \\\n",
       "0                     NaN        6.0             MW            NaN   \n",
       "1                     NaN        5.8             MW            NaN   \n",
       "2                     NaN        6.2             MW            NaN   \n",
       "3                     NaN        5.8             MW            NaN   \n",
       "4                     NaN        5.8             MW            NaN   \n",
       "\n",
       "   Root Mean Square  Source Location Source Magnitude Source     Status  \n",
       "0               NaN  ISCGEM          ISCGEM           ISCGEM  Automatic  \n",
       "1               NaN  ISCGEM          ISCGEM           ISCGEM  Automatic  \n",
       "2               NaN  ISCGEM          ISCGEM           ISCGEM  Automatic  \n",
       "3               NaN  ISCGEM          ISCGEM           ISCGEM  Automatic  \n",
       "4               NaN  ISCGEM          ISCGEM           ISCGEM  Automatic  "
      ]
     },
     "execution_count": 28,
     "metadata": {},
     "output_type": "execute_result"
    }
   ],
   "source": [
    "df = pd.read_csv('earthquake_database.csv', )\n",
    "df['Date'] = pd.to_datetime(df['Date'])\n",
    "df.drop(['Time', 'Magnitude Error', 'Horizontal Distance', 'Horizontal Error', 'Magnitude Seismic Stations', 'ID'],\n",
    "        axis = 1, inplace = True)\n",
    "df.head()"
   ]
  },
  {
   "cell_type": "markdown",
   "metadata": {
    "heading_collapsed": true
   },
   "source": [
    "## Taking care of categorical variables"
   ]
  },
  {
   "cell_type": "markdown",
   "metadata": {
    "hidden": true
   },
   "source": [
    "### Lets drop categories which occur very rare or group them into a larger class. Then make dummy variables"
   ]
  },
  {
   "cell_type": "code",
   "execution_count": 29,
   "metadata": {
    "hidden": true
   },
   "outputs": [
    {
     "data": {
      "text/plain": [
       "Earthquake           23232\n",
       "Nuclear Explosion      175\n",
       "Explosion                4\n",
       "Rock Burst               1\n",
       "Name: Type, dtype: int64"
      ]
     },
     "execution_count": 29,
     "metadata": {},
     "output_type": "execute_result"
    }
   ],
   "source": [
    "df['Type'].value_counts() # explosion and Rock burst will be dropped"
   ]
  },
  {
   "cell_type": "code",
   "execution_count": 30,
   "metadata": {
    "hidden": true
   },
   "outputs": [
    {
     "data": {
      "text/plain": [
       "Earthquake           23232\n",
       "Nuclear Explosion      175\n",
       "Name: Type, dtype: int64"
      ]
     },
     "execution_count": 30,
     "metadata": {},
     "output_type": "execute_result"
    }
   ],
   "source": [
    "df.drop(np.where((df['Type'] == 'Rock Burst') | (df['Type'] == 'Explosion'))[0], axis = 0, inplace=True)\n",
    "df.reset_index(inplace=True, drop = True)\n",
    "df['Type'].value_counts()"
   ]
  },
  {
   "cell_type": "code",
   "execution_count": 31,
   "metadata": {
    "hidden": true
   },
   "outputs": [
    {
     "name": "stderr",
     "output_type": "stream",
     "text": [
      "/home/user/anaconda3/lib/python3.6/site-packages/seaborn/categorical.py:454: FutureWarning: remove_na is deprecated and is a private function. Do not use.\n",
      "  box_data = remove_na(group_data)\n"
     ]
    },
    {
     "data": {
      "text/plain": [
       "<matplotlib.axes._subplots.AxesSubplot at 0x7f1f1abffe80>"
      ]
     },
     "execution_count": 31,
     "metadata": {},
     "output_type": "execute_result"
    },
    {
     "data": {
      "image/png": "[encoded data removed]",
      "text/plain": [
       "<matplotlib.figure.Figure at 0x7f1f1baef908>"
      ]
     },
     "metadata": {},
     "output_type": "display_data"
    }
   ],
   "source": [
    "sns.boxplot(x='Type', y='Magnitude', data=df)"
   ]
  },
  {
   "cell_type": "code",
   "execution_count": 32,
   "metadata": {
    "hidden": true
   },
   "outputs": [
    {
     "name": "stdout",
     "output_type": "stream",
     "text": [
      "MW     7722\n",
      "MWC    5668\n",
      "MB     3757\n",
      "MWB    2458\n",
      "MWW    1983\n",
      "MS     1702\n",
      "ML       77\n",
      "MWR      26\n",
      "MD        6\n",
      "MH        5\n",
      "Name: Magnitude Type, dtype: int64\n"
     ]
    },
    {
     "name": "stderr",
     "output_type": "stream",
     "text": [
      "/home/user/anaconda3/lib/python3.6/site-packages/seaborn/categorical.py:454: FutureWarning: remove_na is deprecated and is a private function. Do not use.\n",
      "  box_data = remove_na(group_data)\n"
     ]
    },
    {
     "data": {
      "text/plain": [
       "<matplotlib.axes._subplots.AxesSubplot at 0x7f1f1abaf908>"
      ]
     },
     "execution_count": 32,
     "metadata": {},
     "output_type": "execute_result"
    },
    {
     "data": {
      "image/png": "[encoded data removed]",
      "text/plain": [
       "<matplotlib.figure.Figure at 0x7f1f1abb9588>"
      ]
     },
     "metadata": {},
     "output_type": "display_data"
    }
   ],
   "source": [
    "print(df['Magnitude Type'].value_counts())\n",
    "sns.boxplot(x='Magnitude Type', y='Magnitude', data=df)\n",
    "# We can seee that Magnitude type does not significantly affect Magnitude\n",
    "# There are 5 MH and 6 MD, lets drop them"
   ]
  },
  {
   "cell_type": "code",
   "execution_count": 33,
   "metadata": {
    "hidden": true
   },
   "outputs": [
    {
     "data": {
      "text/plain": [
       "MW     7722\n",
       "MWC    5668\n",
       "MB     3757\n",
       "MWB    2458\n",
       "MWW    1983\n",
       "MS     1702\n",
       "ML       77\n",
       "MWR      26\n",
       "Name: Magnitude Type, dtype: int64"
      ]
     },
     "execution_count": 33,
     "metadata": {},
     "output_type": "execute_result"
    }
   ],
   "source": [
    "df.drop(np.where((df['Magnitude Type'] == 'MH') | (df['Magnitude Type'] == 'MD'))[0], axis = 0, inplace=True)\n",
    "df.reset_index(inplace=True, drop = True)\n",
    "df['Magnitude Type'].value_counts()"
   ]
  },
  {
   "cell_type": "code",
   "execution_count": 34,
   "metadata": {
    "hidden": true
   },
   "outputs": [
    {
     "data": {
      "text/plain": [
       "US        20345\n",
       "ISCGEM     2581\n",
       "CI           59\n",
       "GCMT         56\n",
       "NC           51\n",
       "GUC          46\n",
       "AEIC         40\n",
       "UNM          21\n",
       "PGC          19\n",
       "WEL          18\n",
       "AGS          17\n",
       "ISK          15\n",
       "AK           14\n",
       "ATH          14\n",
       "HVO          12\n",
       "SPE          10\n",
       "AEI           7\n",
       "TEH           7\n",
       "ROM           7\n",
       "H             7\n",
       "CASC          4\n",
       "NN            4\n",
       "US_WEL        4\n",
       "THR           3\n",
       "THE           3\n",
       "ATLAS         3\n",
       "JMA           3\n",
       "RSPR          3\n",
       "B             2\n",
       "MDD           2\n",
       "TUL           2\n",
       "G             2\n",
       "U             1\n",
       "AG            1\n",
       "SLC           1\n",
       "OTT           1\n",
       "BOU           1\n",
       "CAR           1\n",
       "BRK           1\n",
       "LIM           1\n",
       "UCR           1\n",
       "SE            1\n",
       "CSEM          1\n",
       "PR            1\n",
       "BEO           1\n",
       "TAP           1\n",
       "SJA           1\n",
       "Name: Location Source, dtype: int64"
      ]
     },
     "execution_count": 34,
     "metadata": {},
     "output_type": "execute_result"
    }
   ],
   "source": [
    "df['Location Source'].value_counts()"
   ]
  },
  {
   "cell_type": "code",
   "execution_count": 35,
   "metadata": {
    "hidden": true
   },
   "outputs": [
    {
     "data": {
      "text/plain": [
       "US           20345\n",
       "ISCGEM        2581\n",
       "Other_Loc      304\n",
       "CI              59\n",
       "GCMT            56\n",
       "NC              51\n",
       "Name: Location Source, dtype: int64"
      ]
     },
     "execution_count": 35,
     "metadata": {},
     "output_type": "execute_result"
    }
   ],
   "source": [
    "# Here we won't drop the Locatoin source but will group them under 1 name - Other_loc\n",
    "df.loc[(df['Location Source'] != 'US') & (df['Location Source'] != 'ISCGEM') & \n",
    "                      (df['Location Source'] != 'GCMT') & (df['Location Source'] != 'NC') & \n",
    "                      (df['Location Source'] != 'CI'),'Location Source'] = 'Other_Loc'\n",
    "df['Location Source'].value_counts()"
   ]
  },
  {
   "cell_type": "code",
   "execution_count": 36,
   "metadata": {
    "hidden": true
   },
   "outputs": [
    {
     "name": "stderr",
     "output_type": "stream",
     "text": [
      "/home/user/anaconda3/lib/python3.6/site-packages/seaborn/categorical.py:454: FutureWarning: remove_na is deprecated and is a private function. Do not use.\n",
      "  box_data = remove_na(group_data)\n"
     ]
    },
    {
     "data": {
      "text/plain": [
       "<matplotlib.axes._subplots.AxesSubplot at 0x7f1f1a9a6e10>"
      ]
     },
     "execution_count": 36,
     "metadata": {},
     "output_type": "execute_result"
    },
    {
     "data": {
      "image/png": "[encoded data removed]",
      "text/plain": [
       "<matplotlib.figure.Figure at 0x7f1f1a9fcb70>"
      ]
     },
     "metadata": {},
     "output_type": "display_data"
    }
   ],
   "source": [
    "# still no trend\n",
    "sns.boxplot(x='Location Source', y='Magnitude', data=df)"
   ]
  },
  {
   "cell_type": "code",
   "execution_count": 37,
   "metadata": {
    "hidden": true
   },
   "outputs": [
    {
     "data": {
      "text/plain": [
       "US           20625\n",
       "ISCGEM        2460\n",
       "ISCGEMSUP      120\n",
       "CI              59\n",
       "GCMT            55\n",
       "NC              48\n",
       "AK              12\n",
       "OFFICIAL         8\n",
       "NN               4\n",
       "ATLAS            3\n",
       "SE               1\n",
       "PR               1\n",
       "Name: Source, dtype: int64"
      ]
     },
     "execution_count": 37,
     "metadata": {},
     "output_type": "execute_result"
    }
   ],
   "source": [
    "df['Source'].value_counts()"
   ]
  },
  {
   "cell_type": "code",
   "execution_count": 38,
   "metadata": {
    "hidden": true
   },
   "outputs": [
    {
     "data": {
      "text/plain": [
       "US              20625\n",
       "ISCGEM           2460\n",
       "Other_Source      149\n",
       "CI                 59\n",
       "GCMT               55\n",
       "NC                 48\n",
       "Name: Source, dtype: int64"
      ]
     },
     "execution_count": 38,
     "metadata": {},
     "output_type": "execute_result"
    }
   ],
   "source": [
    "# We do the same with Source column\n",
    "df.loc[(df['Source'] != 'US') & (df['Source'] != 'ISCGEM') & (df['Source'] != 'CI') \n",
    "             & (df['Source'] != 'GCMT') & (df['Source'] != 'NC'),'Source'] = 'Other_Source'\n",
    "df['Source'].value_counts()"
   ]
  },
  {
   "cell_type": "code",
   "execution_count": 39,
   "metadata": {
    "hidden": true
   },
   "outputs": [
    {
     "name": "stderr",
     "output_type": "stream",
     "text": [
      "/home/user/anaconda3/lib/python3.6/site-packages/seaborn/categorical.py:454: FutureWarning: remove_na is deprecated and is a private function. Do not use.\n",
      "  box_data = remove_na(group_data)\n"
     ]
    },
    {
     "data": {
      "text/plain": [
       "<matplotlib.axes._subplots.AxesSubplot at 0x7f1f1a8d9f98>"
      ]
     },
     "execution_count": 39,
     "metadata": {},
     "output_type": "execute_result"
    },
    {
     "data": {
      "image/png": "[encoded data removed]",
      "text/plain": [
       "<matplotlib.figure.Figure at 0x7f1f1aa4b470>"
      ]
     },
     "metadata": {},
     "output_type": "display_data"
    }
   ],
   "source": [
    "sns.boxplot(x='Source', y='Magnitude', data=df)"
   ]
  },
  {
   "cell_type": "code",
   "execution_count": 40,
   "metadata": {
    "hidden": true
   },
   "outputs": [
    {
     "data": {
      "text/plain": [
       "US          10453\n",
       "HRV          8223\n",
       "ISCGEM       2580\n",
       "GCMT         1489\n",
       "NC            530\n",
       "CI             59\n",
       "AK             12\n",
       "PAR             9\n",
       "OFFICIAL        8\n",
       "GUC             6\n",
       "NN              4\n",
       "NIED            4\n",
       "US_GCMT         3\n",
       "1000            3\n",
       "ATLAS           3\n",
       "BRK             2\n",
       "PGC             2\n",
       "1023            1\n",
       "US_PGC          1\n",
       "PR              1\n",
       "1009            1\n",
       "SE              1\n",
       "1020            1\n",
       "Name: Magnitude Source, dtype: int64"
      ]
     },
     "execution_count": 40,
     "metadata": {},
     "output_type": "execute_result"
    }
   ],
   "source": [
    "df['Magnitude Source'].value_counts()"
   ]
  },
  {
   "cell_type": "code",
   "execution_count": 41,
   "metadata": {
    "hidden": true
   },
   "outputs": [
    {
     "data": {
      "text/plain": [
       "US                  10453\n",
       "HRV                  8223\n",
       "ISCGEM               2580\n",
       "GCMT                 1489\n",
       "NC                    530\n",
       "Other_Mag_Source       62\n",
       "CI                     59\n",
       "Name: Magnitude Source, dtype: int64"
      ]
     },
     "execution_count": 41,
     "metadata": {},
     "output_type": "execute_result"
    }
   ],
   "source": [
    "df.loc[(df['Magnitude Source'] != 'US') & (df['Magnitude Source'] != 'ISCGEM') & (df['Magnitude Source'] != 'CI') \n",
    "       & (df['Magnitude Source'] != 'GCMT') & (df['Magnitude Source'] != 'NC') \n",
    "       & (df['Magnitude Source'] != 'HRV'),'Magnitude Source'] = 'Other_Mag_Source'\n",
    "df['Magnitude Source'].value_counts()"
   ]
  },
  {
   "cell_type": "code",
   "execution_count": 42,
   "metadata": {
    "hidden": true
   },
   "outputs": [
    {
     "name": "stderr",
     "output_type": "stream",
     "text": [
      "/home/user/anaconda3/lib/python3.6/site-packages/seaborn/categorical.py:454: FutureWarning: remove_na is deprecated and is a private function. Do not use.\n",
      "  box_data = remove_na(group_data)\n"
     ]
    },
    {
     "data": {
      "text/plain": [
       "<matplotlib.axes._subplots.AxesSubplot at 0x7f1f1a791940>"
      ]
     },
     "execution_count": 42,
     "metadata": {},
     "output_type": "execute_result"
    },
    {
     "data": {
      "image/png": "[encoded data removed]",
      "text/plain": [
       "<matplotlib.figure.Figure at 0x7f1f1a77ab70>"
      ]
     },
     "metadata": {},
     "output_type": "display_data"
    }
   ],
   "source": [
    "sns.boxplot(x='Magnitude Source', y='Magnitude', data=df)"
   ]
  },
  {
   "cell_type": "code",
   "execution_count": 15,
   "metadata": {
    "collapsed": true,
    "hidden": true
   },
   "outputs": [],
   "source": []
  },
  {
   "cell_type": "code",
   "execution_count": 44,
   "metadata": {
    "collapsed": true,
    "hidden": true
   },
   "outputs": [],
   "source": [
    "# A copy that will be needed later for catboost \n",
    "df_new = df.copy()"
   ]
  },
  {
   "cell_type": "code",
   "execution_count": 18,
   "metadata": {
    "hidden": true
   },
   "outputs": [
    {
     "name": "stdout",
     "output_type": "stream",
     "text": [
      "<class 'pandas.core.frame.DataFrame'>\n",
      "RangeIndex: 23396 entries, 0 to 23395\n",
      "Data columns (total 15 columns):\n",
      "Magnitude                 23396 non-null float64\n",
      "Date                      23396 non-null datetime64[ns]\n",
      "Latitude                  23396 non-null float64\n",
      "Longitude                 23396 non-null float64\n",
      "Type                      23396 non-null object\n",
      "Depth                     23396 non-null float64\n",
      "Magnitude_Type            23393 non-null object\n",
      "Source                    23396 non-null object\n",
      "Location_Source           23396 non-null object\n",
      "Magnitude_Source          23396 non-null object\n",
      "Status                    23396 non-null object\n",
      "Root_Mean_Square          17338 non-null float64\n",
      "Azimuthal_Gap             7287 non-null float64\n",
      "Depth_Seismic_Stations    7085 non-null float64\n",
      "Depth_Error               4452 non-null float64\n",
      "dtypes: datetime64[ns](1), float64(8), object(6)\n",
      "memory usage: 2.7+ MB\n"
     ]
    }
   ],
   "source": [
    "df.info()"
   ]
  },
  {
   "cell_type": "code",
   "execution_count": 46,
   "metadata": {
    "hidden": true
   },
   "outputs": [],
   "source": [
    "df = pd.get_dummies(df, columns=['Source', 'Location Source', 'Magnitude Source', 'Status', 'Type', 'Magnitude Type'])"
   ]
  },
  {
   "cell_type": "code",
   "execution_count": 47,
   "metadata": {
    "hidden": true
   },
   "outputs": [],
   "source": [
    "# Lets bring the Magnitude column to the beginging and the 4 columns to be predicted to the end\n",
    "df = df.reindex(columns=(['Magnitude'] + \n",
    "                         list([a for a in df.columns if a not in ['Magnitude', 'Depth Error', 'Depth Seismic Stations','Azimuthal Gap', 'Root Mean Square']])\n",
    "                         + ['Root Mean Square', 'Azimuthal Gap', 'Depth Seismic Stations','Depth Error']))\n",
    "\n",
    "# end replace spaces by some symbol for stat models to work\n",
    "new_names = []\n",
    "for i in range(len(df.columns)):\n",
    "    new_names.append(df.columns[i].replace(' ', '_'))\n",
    "df.columns = new_names"
   ]
  },
  {
   "cell_type": "code",
   "execution_count": 48,
   "metadata": {
    "hidden": true
   },
   "outputs": [
    {
     "name": "stdout",
     "output_type": "stream",
     "text": [
      "<class 'pandas.core.frame.DataFrame'>\n",
      "RangeIndex: 23396 entries, 0 to 23395\n",
      "Data columns (total 40 columns):\n",
      "Magnitude                            23396 non-null float64\n",
      "Date                                 23396 non-null datetime64[ns]\n",
      "Latitude                             23396 non-null float64\n",
      "Longitude                            23396 non-null float64\n",
      "Depth                                23396 non-null float64\n",
      "Source_CI                            23396 non-null uint8\n",
      "Source_GCMT                          23396 non-null uint8\n",
      "Source_ISCGEM                        23396 non-null uint8\n",
      "Source_NC                            23396 non-null uint8\n",
      "Source_Other_Source                  23396 non-null uint8\n",
      "Source_US                            23396 non-null uint8\n",
      "Location_Source_CI                   23396 non-null uint8\n",
      "Location_Source_GCMT                 23396 non-null uint8\n",
      "Location_Source_ISCGEM               23396 non-null uint8\n",
      "Location_Source_NC                   23396 non-null uint8\n",
      "Location_Source_Other_Loc            23396 non-null uint8\n",
      "Location_Source_US                   23396 non-null uint8\n",
      "Magnitude_Source_CI                  23396 non-null uint8\n",
      "Magnitude_Source_GCMT                23396 non-null uint8\n",
      "Magnitude_Source_HRV                 23396 non-null uint8\n",
      "Magnitude_Source_ISCGEM              23396 non-null uint8\n",
      "Magnitude_Source_NC                  23396 non-null uint8\n",
      "Magnitude_Source_Other_Mag_Source    23396 non-null uint8\n",
      "Magnitude_Source_US                  23396 non-null uint8\n",
      "Status_Automatic                     23396 non-null uint8\n",
      "Status_Reviewed                      23396 non-null uint8\n",
      "Type_Earthquake                      23396 non-null uint8\n",
      "Type_Nuclear_Explosion               23396 non-null uint8\n",
      "Magnitude_Type_MB                    23396 non-null uint8\n",
      "Magnitude_Type_ML                    23396 non-null uint8\n",
      "Magnitude_Type_MS                    23396 non-null uint8\n",
      "Magnitude_Type_MW                    23396 non-null uint8\n",
      "Magnitude_Type_MWB                   23396 non-null uint8\n",
      "Magnitude_Type_MWC                   23396 non-null uint8\n",
      "Magnitude_Type_MWR                   23396 non-null uint8\n",
      "Magnitude_Type_MWW                   23396 non-null uint8\n",
      "Root_Mean_Square                     17338 non-null float64\n",
      "Azimuthal_Gap                        7287 non-null float64\n",
      "Depth_Seismic_Stations               7085 non-null float64\n",
      "Depth_Error                          4452 non-null float64\n",
      "dtypes: datetime64[ns](1), float64(8), uint8(31)\n",
      "memory usage: 2.3 MB\n"
     ]
    }
   ],
   "source": [
    "df.info()"
   ]
  },
  {
   "cell_type": "markdown",
   "metadata": {
    "heading_collapsed": true
   },
   "source": [
    "## Lets do regression the missing values in quantitative columns"
   ]
  },
  {
   "cell_type": "markdown",
   "metadata": {
    "heading_collapsed": true,
    "hidden": true
   },
   "source": [
    "### Root mean square"
   ]
  },
  {
   "cell_type": "code",
   "execution_count": 49,
   "metadata": {
    "hidden": true
   },
   "outputs": [
    {
     "name": "stderr",
     "output_type": "stream",
     "text": [
      "/home/user/anaconda3/lib/python3.6/site-packages/statsmodels/base/model.py:1036: RuntimeWarning: invalid value encountered in true_divide\n",
      "  return self.params / self.bse\n",
      "/home/user/anaconda3/lib/python3.6/site-packages/scipy/stats/_distn_infrastructure.py:879: RuntimeWarning: invalid value encountered in greater\n",
      "  return (self.a < x) & (x < self.b)\n",
      "/home/user/anaconda3/lib/python3.6/site-packages/scipy/stats/_distn_infrastructure.py:879: RuntimeWarning: invalid value encountered in less\n",
      "  return (self.a < x) & (x < self.b)\n",
      "/home/user/anaconda3/lib/python3.6/site-packages/scipy/stats/_distn_infrastructure.py:1821: RuntimeWarning: invalid value encountered in less_equal\n",
      "  cond2 = cond0 & (x <= self.a)\n"
     ]
    },
    {
     "data": {
      "text/html": [
       "<table class=\"simpletable\">\n",
       "<caption>OLS Regression Results</caption>\n",
       "<tr>\n",
       "  <th>Dep. Variable:</th>    <td>Root_Mean_Square</td> <th>  R-squared:         </th>  <td>   0.220</td> \n",
       "</tr>\n",
       "<tr>\n",
       "  <th>Model:</th>                   <td>OLS</td>       <th>  Adj. R-squared:    </th>  <td>   0.220</td> \n",
       "</tr>\n",
       "<tr>\n",
       "  <th>Method:</th>             <td>Least Squares</td>  <th>  F-statistic:       </th>  <td>   257.8</td> \n",
       "</tr>\n",
       "<tr>\n",
       "  <th>Date:</th>             <td>Sat, 04 Aug 2018</td> <th>  Prob (F-statistic):</th>   <td>  0.00</td>  \n",
       "</tr>\n",
       "<tr>\n",
       "  <th>Time:</th>                 <td>21:44:19</td>     <th>  Log-Likelihood:    </th>  <td>  6598.5</td> \n",
       "</tr>\n",
       "<tr>\n",
       "  <th>No. Observations:</th>      <td> 17338</td>      <th>  AIC:               </th> <td>-1.316e+04</td>\n",
       "</tr>\n",
       "<tr>\n",
       "  <th>Df Residuals:</th>          <td> 17318</td>      <th>  BIC:               </th> <td>-1.300e+04</td>\n",
       "</tr>\n",
       "<tr>\n",
       "  <th>Df Model:</th>              <td>    19</td>      <th>                     </th>      <td> </td>    \n",
       "</tr>\n",
       "<tr>\n",
       "  <th>Covariance Type:</th>      <td>nonrobust</td>    <th>                     </th>      <td> </td>    \n",
       "</tr>\n",
       "</table>\n",
       "<table class=\"simpletable\">\n",
       "<tr>\n",
       "                  <td></td>                     <th>coef</th>     <th>std err</th>      <th>t</th>      <th>P>|t|</th>  <th>[0.025</th>    <th>0.975]</th>  \n",
       "</tr>\n",
       "<tr>\n",
       "  <th>Intercept</th>                         <td>    0.1804</td> <td>    0.006</td> <td>   31.146</td> <td> 0.000</td> <td>    0.169</td> <td>    0.192</td>\n",
       "</tr>\n",
       "<tr>\n",
       "  <th>Latitude</th>                          <td>   -0.0012</td> <td> 4.42e-05</td> <td>  -26.434</td> <td> 0.000</td> <td>   -0.001</td> <td>   -0.001</td>\n",
       "</tr>\n",
       "<tr>\n",
       "  <th>Longitude</th>                         <td>-3.999e-05</td> <td> 1.04e-05</td> <td>   -3.853</td> <td> 0.000</td> <td>-6.03e-05</td> <td>-1.96e-05</td>\n",
       "</tr>\n",
       "<tr>\n",
       "  <th>Depth</th>                             <td>   -0.0003</td> <td>    1e-05</td> <td>  -24.948</td> <td> 0.000</td> <td>   -0.000</td> <td>   -0.000</td>\n",
       "</tr>\n",
       "<tr>\n",
       "  <th>Source_CI</th>                         <td>   -0.0183</td> <td>    0.007</td> <td>   -2.592</td> <td> 0.010</td> <td>   -0.032</td> <td>   -0.004</td>\n",
       "</tr>\n",
       "<tr>\n",
       "  <th>Source_GCMT</th>                       <td> 6.535e-17</td> <td> 7.66e-18</td> <td>    8.529</td> <td> 0.000</td> <td> 5.03e-17</td> <td> 8.04e-17</td>\n",
       "</tr>\n",
       "<tr>\n",
       "  <th>Source_ISCGEM</th>                     <td>-1.568e-16</td> <td> 1.54e-17</td> <td>  -10.208</td> <td> 0.000</td> <td>-1.87e-16</td> <td>-1.27e-16</td>\n",
       "</tr>\n",
       "<tr>\n",
       "  <th>Source_NC</th>                         <td>   -0.2149</td> <td>    0.013</td> <td>  -17.147</td> <td> 0.000</td> <td>   -0.239</td> <td>   -0.190</td>\n",
       "</tr>\n",
       "<tr>\n",
       "  <th>Source_Other_Source</th>               <td>    0.0451</td> <td>    0.034</td> <td>    1.332</td> <td> 0.183</td> <td>   -0.021</td> <td>    0.112</td>\n",
       "</tr>\n",
       "<tr>\n",
       "  <th>Source_US</th>                         <td>    0.3685</td> <td>    0.024</td> <td>   15.057</td> <td> 0.000</td> <td>    0.321</td> <td>    0.417</td>\n",
       "</tr>\n",
       "<tr>\n",
       "  <th>Location_Source_CI</th>                <td>   -0.0183</td> <td>    0.007</td> <td>   -2.592</td> <td> 0.010</td> <td>   -0.032</td> <td>   -0.004</td>\n",
       "</tr>\n",
       "<tr>\n",
       "  <th>Location_Source_GCMT</th>              <td>-6.324e-17</td> <td> 2.67e-17</td> <td>   -2.369</td> <td> 0.018</td> <td>-1.16e-16</td> <td>-1.09e-17</td>\n",
       "</tr>\n",
       "<tr>\n",
       "  <th>Location_Source_ISCGEM</th>            <td>-1.119e-16</td> <td> 6.75e-18</td> <td>  -16.588</td> <td> 0.000</td> <td>-1.25e-16</td> <td>-9.87e-17</td>\n",
       "</tr>\n",
       "<tr>\n",
       "  <th>Location_Source_NC</th>                <td>   -0.2149</td> <td>    0.013</td> <td>  -17.147</td> <td> 0.000</td> <td>   -0.239</td> <td>   -0.190</td>\n",
       "</tr>\n",
       "<tr>\n",
       "  <th>Location_Source_Other_Loc</th>         <td>    0.2460</td> <td>    0.017</td> <td>   14.499</td> <td> 0.000</td> <td>    0.213</td> <td>    0.279</td>\n",
       "</tr>\n",
       "<tr>\n",
       "  <th>Location_Source_US</th>                <td>    0.1677</td> <td>    0.016</td> <td>   10.778</td> <td> 0.000</td> <td>    0.137</td> <td>    0.198</td>\n",
       "</tr>\n",
       "<tr>\n",
       "  <th>Magnitude_Source_CI</th>               <td>   -0.0183</td> <td>    0.007</td> <td>   -2.592</td> <td> 0.010</td> <td>   -0.032</td> <td>   -0.004</td>\n",
       "</tr>\n",
       "<tr>\n",
       "  <th>Magnitude_Source_GCMT</th>             <td>    0.0183</td> <td>    0.010</td> <td>    1.858</td> <td> 0.063</td> <td>   -0.001</td> <td>    0.038</td>\n",
       "</tr>\n",
       "<tr>\n",
       "  <th>Magnitude_Source_HRV</th>              <td>    0.0458</td> <td>    0.009</td> <td>    4.989</td> <td> 0.000</td> <td>    0.028</td> <td>    0.064</td>\n",
       "</tr>\n",
       "<tr>\n",
       "  <th>Magnitude_Source_ISCGEM</th>           <td> 2.465e-18</td> <td> 4.02e-18</td> <td>    0.614</td> <td> 0.539</td> <td>-5.41e-18</td> <td> 1.03e-17</td>\n",
       "</tr>\n",
       "<tr>\n",
       "  <th>Magnitude_Source_NC</th>               <td>    0.0357</td> <td>    0.011</td> <td>    3.263</td> <td> 0.001</td> <td>    0.014</td> <td>    0.057</td>\n",
       "</tr>\n",
       "<tr>\n",
       "  <th>Magnitude_Source_Other_Mag_Source</th> <td>    0.0787</td> <td>    0.031</td> <td>    2.520</td> <td> 0.012</td> <td>    0.017</td> <td>    0.140</td>\n",
       "</tr>\n",
       "<tr>\n",
       "  <th>Magnitude_Source_US</th>               <td>    0.0203</td> <td>    0.010</td> <td>    1.958</td> <td> 0.050</td> <td>-2.15e-05</td> <td>    0.041</td>\n",
       "</tr>\n",
       "<tr>\n",
       "  <th>Status_Automatic</th>                  <td>         0</td> <td>        0</td> <td>      nan</td> <td>   nan</td> <td>        0</td> <td>        0</td>\n",
       "</tr>\n",
       "<tr>\n",
       "  <th>Status_Reviewed</th>                   <td>    0.1804</td> <td>    0.006</td> <td>   31.146</td> <td> 0.000</td> <td>    0.169</td> <td>    0.192</td>\n",
       "</tr>\n",
       "<tr>\n",
       "  <th>Type_Earthquake</th>                   <td>    0.0998</td> <td>    0.008</td> <td>   12.942</td> <td> 0.000</td> <td>    0.085</td> <td>    0.115</td>\n",
       "</tr>\n",
       "<tr>\n",
       "  <th>Type_Nuclear_Explosion</th>            <td>    0.0806</td> <td>    0.010</td> <td>    7.895</td> <td> 0.000</td> <td>    0.061</td> <td>    0.101</td>\n",
       "</tr>\n",
       "<tr>\n",
       "  <th>Magnitude_Type_MB</th>                 <td>   -0.0011</td> <td>    0.008</td> <td>   -0.135</td> <td> 0.892</td> <td>   -0.017</td> <td>    0.015</td>\n",
       "</tr>\n",
       "<tr>\n",
       "  <th>Magnitude_Type_ML</th>                 <td>    0.1720</td> <td>    0.026</td> <td>    6.531</td> <td> 0.000</td> <td>    0.120</td> <td>    0.224</td>\n",
       "</tr>\n",
       "<tr>\n",
       "  <th>Magnitude_Type_MS</th>                 <td>    0.0978</td> <td>    0.009</td> <td>   10.463</td> <td> 0.000</td> <td>    0.079</td> <td>    0.116</td>\n",
       "</tr>\n",
       "<tr>\n",
       "  <th>Magnitude_Type_MW</th>                 <td>    0.0737</td> <td>    0.008</td> <td>    8.995</td> <td> 0.000</td> <td>    0.058</td> <td>    0.090</td>\n",
       "</tr>\n",
       "<tr>\n",
       "  <th>Magnitude_Type_MWB</th>                <td>   -0.0122</td> <td>    0.008</td> <td>   -1.560</td> <td> 0.119</td> <td>   -0.027</td> <td>    0.003</td>\n",
       "</tr>\n",
       "<tr>\n",
       "  <th>Magnitude_Type_MWC</th>                <td>   -0.0046</td> <td>    0.008</td> <td>   -0.582</td> <td> 0.561</td> <td>   -0.020</td> <td>    0.011</td>\n",
       "</tr>\n",
       "<tr>\n",
       "  <th>Magnitude_Type_MWR</th>                <td>   -0.1092</td> <td>    0.037</td> <td>   -2.971</td> <td> 0.003</td> <td>   -0.181</td> <td>   -0.037</td>\n",
       "</tr>\n",
       "<tr>\n",
       "  <th>Magnitude_Type_MWW</th>                <td>   -0.0361</td> <td>    0.008</td> <td>   -4.580</td> <td> 0.000</td> <td>   -0.052</td> <td>   -0.021</td>\n",
       "</tr>\n",
       "</table>\n",
       "<table class=\"simpletable\">\n",
       "<tr>\n",
       "  <th>Omnibus:</th>       <td>5580.908</td> <th>  Durbin-Watson:     </th>  <td>   1.780</td> \n",
       "</tr>\n",
       "<tr>\n",
       "  <th>Prob(Omnibus):</th>  <td> 0.000</td>  <th>  Jarque-Bera (JB):  </th> <td>110600.467</td>\n",
       "</tr>\n",
       "<tr>\n",
       "  <th>Skew:</th>           <td> 1.054</td>  <th>  Prob(JB):          </th>  <td>    0.00</td> \n",
       "</tr>\n",
       "<tr>\n",
       "  <th>Kurtosis:</th>       <td>15.192</td>  <th>  Cond. No.          </th>  <td>2.35e+16</td> \n",
       "</tr>\n",
       "</table>"
      ],
      "text/plain": [
       "<class 'statsmodels.iolib.summary.Summary'>\n",
       "\"\"\"\n",
       "                            OLS Regression Results                            \n",
       "==============================================================================\n",
       "Dep. Variable:       Root_Mean_Square   R-squared:                       0.220\n",
       "Model:                            OLS   Adj. R-squared:                  0.220\n",
       "Method:                 Least Squares   F-statistic:                     257.8\n",
       "Date:                Sat, 04 Aug 2018   Prob (F-statistic):               0.00\n",
       "Time:                        21:44:19   Log-Likelihood:                 6598.5\n",
       "No. Observations:               17338   AIC:                        -1.316e+04\n",
       "Df Residuals:                   17318   BIC:                        -1.300e+04\n",
       "Df Model:                          19                                         \n",
       "Covariance Type:            nonrobust                                         \n",
       "=====================================================================================================\n",
       "                                        coef    std err          t      P>|t|      [0.025      0.975]\n",
       "-----------------------------------------------------------------------------------------------------\n",
       "Intercept                             0.1804      0.006     31.146      0.000       0.169       0.192\n",
       "Latitude                             -0.0012   4.42e-05    -26.434      0.000      -0.001      -0.001\n",
       "Longitude                         -3.999e-05   1.04e-05     -3.853      0.000   -6.03e-05   -1.96e-05\n",
       "Depth                                -0.0003      1e-05    -24.948      0.000      -0.000      -0.000\n",
       "Source_CI                            -0.0183      0.007     -2.592      0.010      -0.032      -0.004\n",
       "Source_GCMT                        6.535e-17   7.66e-18      8.529      0.000    5.03e-17    8.04e-17\n",
       "Source_ISCGEM                     -1.568e-16   1.54e-17    -10.208      0.000   -1.87e-16   -1.27e-16\n",
       "Source_NC                            -0.2149      0.013    -17.147      0.000      -0.239      -0.190\n",
       "Source_Other_Source                   0.0451      0.034      1.332      0.183      -0.021       0.112\n",
       "Source_US                             0.3685      0.024     15.057      0.000       0.321       0.417\n",
       "Location_Source_CI                   -0.0183      0.007     -2.592      0.010      -0.032      -0.004\n",
       "Location_Source_GCMT              -6.324e-17   2.67e-17     -2.369      0.018   -1.16e-16   -1.09e-17\n",
       "Location_Source_ISCGEM            -1.119e-16   6.75e-18    -16.588      0.000   -1.25e-16   -9.87e-17\n",
       "Location_Source_NC                   -0.2149      0.013    -17.147      0.000      -0.239      -0.190\n",
       "Location_Source_Other_Loc             0.2460      0.017     14.499      0.000       0.213       0.279\n",
       "Location_Source_US                    0.1677      0.016     10.778      0.000       0.137       0.198\n",
       "Magnitude_Source_CI                  -0.0183      0.007     -2.592      0.010      -0.032      -0.004\n",
       "Magnitude_Source_GCMT                 0.0183      0.010      1.858      0.063      -0.001       0.038\n",
       "Magnitude_Source_HRV                  0.0458      0.009      4.989      0.000       0.028       0.064\n",
       "Magnitude_Source_ISCGEM            2.465e-18   4.02e-18      0.614      0.539   -5.41e-18    1.03e-17\n",
       "Magnitude_Source_NC                   0.0357      0.011      3.263      0.001       0.014       0.057\n",
       "Magnitude_Source_Other_Mag_Source     0.0787      0.031      2.520      0.012       0.017       0.140\n",
       "Magnitude_Source_US                   0.0203      0.010      1.958      0.050   -2.15e-05       0.041\n",
       "Status_Automatic                           0          0        nan        nan           0           0\n",
       "Status_Reviewed                       0.1804      0.006     31.146      0.000       0.169       0.192\n",
       "Type_Earthquake                       0.0998      0.008     12.942      0.000       0.085       0.115\n",
       "Type_Nuclear_Explosion                0.0806      0.010      7.895      0.000       0.061       0.101\n",
       "Magnitude_Type_MB                    -0.0011      0.008     -0.135      0.892      -0.017       0.015\n",
       "Magnitude_Type_ML                     0.1720      0.026      6.531      0.000       0.120       0.224\n",
       "Magnitude_Type_MS                     0.0978      0.009     10.463      0.000       0.079       0.116\n",
       "Magnitude_Type_MW                     0.0737      0.008      8.995      0.000       0.058       0.090\n",
       "Magnitude_Type_MWB                   -0.0122      0.008     -1.560      0.119      -0.027       0.003\n",
       "Magnitude_Type_MWC                   -0.0046      0.008     -0.582      0.561      -0.020       0.011\n",
       "Magnitude_Type_MWR                   -0.1092      0.037     -2.971      0.003      -0.181      -0.037\n",
       "Magnitude_Type_MWW                   -0.0361      0.008     -4.580      0.000      -0.052      -0.021\n",
       "==============================================================================\n",
       "Omnibus:                     5580.908   Durbin-Watson:                   1.780\n",
       "Prob(Omnibus):                  0.000   Jarque-Bera (JB):           110600.467\n",
       "Skew:                           1.054   Prob(JB):                         0.00\n",
       "Kurtosis:                      15.192   Cond. No.                     2.35e+16\n",
       "==============================================================================\n",
       "\n",
       "Warnings:\n",
       "[1] Standard Errors assume that the covariance matrix of the errors is correctly specified.\n",
       "[2] The smallest eigenvalue is 6.76e-25. This might indicate that there are\n",
       "strong multicollinearity problems or that the design matrix is singular.\n",
       "\"\"\""
      ]
     },
     "execution_count": 49,
     "metadata": {},
     "output_type": "execute_result"
    }
   ],
   "source": [
    "# Dont use the Magnitude and Date. While using date laptop dies\n",
    "import statsmodels.formula.api as smf\n",
    "formula = 'Root_Mean_Square ~ ' + ' + '.join(df.columns[2:-4])\n",
    "results_RMS = smf.ols(formula, data = df[pd.notnull(df['Root_Mean_Square'])]).fit()\n",
    "results_RMS.summary()"
   ]
  },
  {
   "cell_type": "code",
   "execution_count": 29,
   "metadata": {
    "hidden": true
   },
   "outputs": [
    {
     "data": {
      "text/plain": [
       "0.027381504293465975"
      ]
     },
     "execution_count": 29,
     "metadata": {},
     "output_type": "execute_result"
    }
   ],
   "source": [
    "results_RMS.mse_resid"
   ]
  },
  {
   "cell_type": "code",
   "execution_count": 51,
   "metadata": {
    "hidden": true
   },
   "outputs": [],
   "source": [
    "df.loc[pd.isna(df.Root_Mean_Square),'Root_Mean_Square'] = results_RMS.predict(df[pd.isna(df.Root_Mean_Square)][df.columns[2:-4]])"
   ]
  },
  {
   "cell_type": "markdown",
   "metadata": {
    "heading_collapsed": true,
    "hidden": true
   },
   "source": [
    "### DEPTH Error"
   ]
  },
  {
   "cell_type": "code",
   "execution_count": 55,
   "metadata": {
    "hidden": true,
    "scrolled": true
   },
   "outputs": [
    {
     "name": "stderr",
     "output_type": "stream",
     "text": [
      "/home/user/anaconda3/lib/python3.6/site-packages/statsmodels/base/model.py:1036: RuntimeWarning: invalid value encountered in true_divide\n",
      "  return self.params / self.bse\n",
      "/home/user/anaconda3/lib/python3.6/site-packages/scipy/stats/_distn_infrastructure.py:879: RuntimeWarning: invalid value encountered in greater\n",
      "  return (self.a < x) & (x < self.b)\n",
      "/home/user/anaconda3/lib/python3.6/site-packages/scipy/stats/_distn_infrastructure.py:879: RuntimeWarning: invalid value encountered in less\n",
      "  return (self.a < x) & (x < self.b)\n",
      "/home/user/anaconda3/lib/python3.6/site-packages/scipy/stats/_distn_infrastructure.py:1821: RuntimeWarning: invalid value encountered in less_equal\n",
      "  cond2 = cond0 & (x <= self.a)\n"
     ]
    },
    {
     "data": {
      "text/html": [
       "<table class=\"simpletable\">\n",
       "<caption>OLS Regression Results</caption>\n",
       "<tr>\n",
       "  <th>Dep. Variable:</th>       <td>Depth_Error</td>   <th>  R-squared:         </th> <td>   0.265</td> \n",
       "</tr>\n",
       "<tr>\n",
       "  <th>Model:</th>                   <td>OLS</td>       <th>  Adj. R-squared:    </th> <td>   0.261</td> \n",
       "</tr>\n",
       "<tr>\n",
       "  <th>Method:</th>             <td>Least Squares</td>  <th>  F-statistic:       </th> <td>   79.73</td> \n",
       "</tr>\n",
       "<tr>\n",
       "  <th>Date:</th>             <td>Sat, 04 Aug 2018</td> <th>  Prob (F-statistic):</th> <td>4.02e-277</td>\n",
       "</tr>\n",
       "<tr>\n",
       "  <th>Time:</th>                 <td>21:49:47</td>     <th>  Log-Likelihood:    </th> <td> -12686.</td> \n",
       "</tr>\n",
       "<tr>\n",
       "  <th>No. Observations:</th>      <td>  4452</td>      <th>  AIC:               </th> <td>2.541e+04</td>\n",
       "</tr>\n",
       "<tr>\n",
       "  <th>Df Residuals:</th>          <td>  4431</td>      <th>  BIC:               </th> <td>2.555e+04</td>\n",
       "</tr>\n",
       "<tr>\n",
       "  <th>Df Model:</th>              <td>    20</td>      <th>                     </th>     <td> </td>    \n",
       "</tr>\n",
       "<tr>\n",
       "  <th>Covariance Type:</th>      <td>nonrobust</td>    <th>                     </th>     <td> </td>    \n",
       "</tr>\n",
       "</table>\n",
       "<table class=\"simpletable\">\n",
       "<tr>\n",
       "                  <td></td>                     <th>coef</th>     <th>std err</th>      <th>t</th>      <th>P>|t|</th>  <th>[0.025</th>    <th>0.975]</th>  \n",
       "</tr>\n",
       "<tr>\n",
       "  <th>Intercept</th>                         <td>    4.4718</td> <td>    0.298</td> <td>   14.985</td> <td> 0.000</td> <td>    3.887</td> <td>    5.057</td>\n",
       "</tr>\n",
       "<tr>\n",
       "  <th>Latitude</th>                          <td>   -0.0069</td> <td>    0.002</td> <td>   -2.811</td> <td> 0.005</td> <td>   -0.012</td> <td>   -0.002</td>\n",
       "</tr>\n",
       "<tr>\n",
       "  <th>Longitude</th>                         <td>    0.0012</td> <td>    0.001</td> <td>    2.105</td> <td> 0.035</td> <td>  7.9e-05</td> <td>    0.002</td>\n",
       "</tr>\n",
       "<tr>\n",
       "  <th>Depth</th>                             <td>   -0.0023</td> <td>    0.000</td> <td>   -4.860</td> <td> 0.000</td> <td>   -0.003</td> <td>   -0.001</td>\n",
       "</tr>\n",
       "<tr>\n",
       "  <th>Source_CI</th>                         <td>    4.0287</td> <td>    0.204</td> <td>   19.706</td> <td> 0.000</td> <td>    3.628</td> <td>    4.429</td>\n",
       "</tr>\n",
       "<tr>\n",
       "  <th>Source_GCMT</th>                       <td>-1.513e-15</td> <td> 3.22e-16</td> <td>   -4.701</td> <td> 0.000</td> <td>-2.14e-15</td> <td>-8.82e-16</td>\n",
       "</tr>\n",
       "<tr>\n",
       "  <th>Source_ISCGEM</th>                     <td>-4.143e-15</td> <td>  6.6e-16</td> <td>   -6.275</td> <td> 0.000</td> <td>-5.44e-15</td> <td>-2.85e-15</td>\n",
       "</tr>\n",
       "<tr>\n",
       "  <th>Source_NC</th>                         <td>    1.7233</td> <td>    0.408</td> <td>    4.222</td> <td> 0.000</td> <td>    0.923</td> <td>    2.524</td>\n",
       "</tr>\n",
       "<tr>\n",
       "  <th>Source_Other_Source</th>               <td>    0.9315</td> <td>    1.265</td> <td>    0.736</td> <td> 0.462</td> <td>   -1.548</td> <td>    3.411</td>\n",
       "</tr>\n",
       "<tr>\n",
       "  <th>Source_US</th>                         <td>   -2.2117</td> <td>    0.899</td> <td>   -2.460</td> <td> 0.014</td> <td>   -3.974</td> <td>   -0.449</td>\n",
       "</tr>\n",
       "<tr>\n",
       "  <th>Location_Source_CI</th>                <td>    4.0287</td> <td>    0.204</td> <td>   19.706</td> <td> 0.000</td> <td>    3.628</td> <td>    4.429</td>\n",
       "</tr>\n",
       "<tr>\n",
       "  <th>Location_Source_GCMT</th>              <td>-2.769e-16</td> <td> 1.27e-16</td> <td>   -2.175</td> <td> 0.030</td> <td>-5.26e-16</td> <td>-2.74e-17</td>\n",
       "</tr>\n",
       "<tr>\n",
       "  <th>Location_Source_ISCGEM</th>            <td> 3.721e-16</td> <td> 4.33e-16</td> <td>    0.860</td> <td> 0.390</td> <td>-4.76e-16</td> <td> 1.22e-15</td>\n",
       "</tr>\n",
       "<tr>\n",
       "  <th>Location_Source_NC</th>                <td>    1.7233</td> <td>    0.408</td> <td>    4.222</td> <td> 0.000</td> <td>    0.923</td> <td>    2.524</td>\n",
       "</tr>\n",
       "<tr>\n",
       "  <th>Location_Source_Other_Loc</th>         <td>   -0.9241</td> <td>    0.476</td> <td>   -1.940</td> <td> 0.052</td> <td>   -1.858</td> <td>    0.010</td>\n",
       "</tr>\n",
       "<tr>\n",
       "  <th>Location_Source_US</th>                <td>   -0.3561</td> <td>    0.472</td> <td>   -0.755</td> <td> 0.450</td> <td>   -1.281</td> <td>    0.569</td>\n",
       "</tr>\n",
       "<tr>\n",
       "  <th>Magnitude_Source_CI</th>               <td>    4.0287</td> <td>    0.204</td> <td>   19.706</td> <td> 0.000</td> <td>    3.628</td> <td>    4.429</td>\n",
       "</tr>\n",
       "<tr>\n",
       "  <th>Magnitude_Source_GCMT</th>             <td>    0.5061</td> <td>    0.444</td> <td>    1.140</td> <td> 0.254</td> <td>   -0.364</td> <td>    1.377</td>\n",
       "</tr>\n",
       "<tr>\n",
       "  <th>Magnitude_Source_HRV</th>              <td>    0.8539</td> <td>    0.420</td> <td>    2.031</td> <td> 0.042</td> <td>    0.030</td> <td>    1.678</td>\n",
       "</tr>\n",
       "<tr>\n",
       "  <th>Magnitude_Source_ISCGEM</th>           <td> 3.542e-16</td> <td> 1.16e-16</td> <td>    3.062</td> <td> 0.002</td> <td> 1.27e-16</td> <td> 5.81e-16</td>\n",
       "</tr>\n",
       "<tr>\n",
       "  <th>Magnitude_Source_NC</th>               <td>   -1.7408</td> <td>    0.526</td> <td>   -3.310</td> <td> 0.001</td> <td>   -2.772</td> <td>   -0.710</td>\n",
       "</tr>\n",
       "<tr>\n",
       "  <th>Magnitude_Source_Other_Mag_Source</th> <td>   -0.7068</td> <td>    1.267</td> <td>   -0.558</td> <td> 0.577</td> <td>   -3.190</td> <td>    1.777</td>\n",
       "</tr>\n",
       "<tr>\n",
       "  <th>Magnitude_Source_US</th>               <td>    1.5307</td> <td>    0.508</td> <td>    3.016</td> <td> 0.003</td> <td>    0.536</td> <td>    2.526</td>\n",
       "</tr>\n",
       "<tr>\n",
       "  <th>Status_Automatic</th>                  <td>         0</td> <td>        0</td> <td>      nan</td> <td>   nan</td> <td>        0</td> <td>        0</td>\n",
       "</tr>\n",
       "<tr>\n",
       "  <th>Status_Reviewed</th>                   <td>    4.4718</td> <td>    0.298</td> <td>   14.985</td> <td> 0.000</td> <td>    3.887</td> <td>    5.057</td>\n",
       "</tr>\n",
       "<tr>\n",
       "  <th>Type_Earthquake</th>                   <td>   -6.0780</td> <td>    0.637</td> <td>   -9.537</td> <td> 0.000</td> <td>   -7.327</td> <td>   -4.829</td>\n",
       "</tr>\n",
       "<tr>\n",
       "  <th>Type_Nuclear_Explosion</th>            <td>   10.5498</td> <td>    0.872</td> <td>   12.105</td> <td> 0.000</td> <td>    8.841</td> <td>   12.258</td>\n",
       "</tr>\n",
       "<tr>\n",
       "  <th>Magnitude_Type_MB</th>                 <td>    1.6984</td> <td>    0.340</td> <td>    4.992</td> <td> 0.000</td> <td>    1.031</td> <td>    2.365</td>\n",
       "</tr>\n",
       "<tr>\n",
       "  <th>Magnitude_Type_ML</th>                 <td>   -2.3845</td> <td>    0.801</td> <td>   -2.978</td> <td> 0.003</td> <td>   -3.954</td> <td>   -0.815</td>\n",
       "</tr>\n",
       "<tr>\n",
       "  <th>Magnitude_Type_MS</th>                 <td>    0.6512</td> <td>    0.471</td> <td>    1.383</td> <td> 0.167</td> <td>   -0.272</td> <td>    1.575</td>\n",
       "</tr>\n",
       "<tr>\n",
       "  <th>Magnitude_Type_MW</th>                 <td>    1.6700</td> <td>    0.420</td> <td>    3.975</td> <td> 0.000</td> <td>    0.846</td> <td>    2.494</td>\n",
       "</tr>\n",
       "<tr>\n",
       "  <th>Magnitude_Type_MWB</th>                <td>    1.0077</td> <td>    0.346</td> <td>    2.913</td> <td> 0.004</td> <td>    0.330</td> <td>    1.686</td>\n",
       "</tr>\n",
       "<tr>\n",
       "  <th>Magnitude_Type_MWC</th>                <td>    3.4451</td> <td>    0.379</td> <td>    9.096</td> <td> 0.000</td> <td>    2.703</td> <td>    4.188</td>\n",
       "</tr>\n",
       "<tr>\n",
       "  <th>Magnitude_Type_MWR</th>                <td>    0.1633</td> <td>    1.233</td> <td>    0.132</td> <td> 0.895</td> <td>   -2.254</td> <td>    2.581</td>\n",
       "</tr>\n",
       "<tr>\n",
       "  <th>Magnitude_Type_MWW</th>                <td>   -1.7793</td> <td>    0.320</td> <td>   -5.552</td> <td> 0.000</td> <td>   -2.408</td> <td>   -1.151</td>\n",
       "</tr>\n",
       "<tr>\n",
       "  <th>Root_Mean_Square</th>                  <td>    2.7418</td> <td>    0.326</td> <td>    8.401</td> <td> 0.000</td> <td>    2.102</td> <td>    3.382</td>\n",
       "</tr>\n",
       "</table>\n",
       "<table class=\"simpletable\">\n",
       "<tr>\n",
       "  <th>Omnibus:</th>       <td>3341.627</td> <th>  Durbin-Watson:     </th>  <td>   1.650</td> \n",
       "</tr>\n",
       "<tr>\n",
       "  <th>Prob(Omnibus):</th>  <td> 0.000</td>  <th>  Jarque-Bera (JB):  </th> <td>179917.980</td>\n",
       "</tr>\n",
       "<tr>\n",
       "  <th>Skew:</th>           <td> 3.061</td>  <th>  Prob(JB):          </th>  <td>    0.00</td> \n",
       "</tr>\n",
       "<tr>\n",
       "  <th>Kurtosis:</th>       <td>33.536</td>  <th>  Cond. No.          </th>  <td>3.44e+16</td> \n",
       "</tr>\n",
       "</table>"
      ],
      "text/plain": [
       "<class 'statsmodels.iolib.summary.Summary'>\n",
       "\"\"\"\n",
       "                            OLS Regression Results                            \n",
       "==============================================================================\n",
       "Dep. Variable:            Depth_Error   R-squared:                       0.265\n",
       "Model:                            OLS   Adj. R-squared:                  0.261\n",
       "Method:                 Least Squares   F-statistic:                     79.73\n",
       "Date:                Sat, 04 Aug 2018   Prob (F-statistic):          4.02e-277\n",
       "Time:                        21:49:47   Log-Likelihood:                -12686.\n",
       "No. Observations:                4452   AIC:                         2.541e+04\n",
       "Df Residuals:                    4431   BIC:                         2.555e+04\n",
       "Df Model:                          20                                         \n",
       "Covariance Type:            nonrobust                                         \n",
       "=====================================================================================================\n",
       "                                        coef    std err          t      P>|t|      [0.025      0.975]\n",
       "-----------------------------------------------------------------------------------------------------\n",
       "Intercept                             4.4718      0.298     14.985      0.000       3.887       5.057\n",
       "Latitude                             -0.0069      0.002     -2.811      0.005      -0.012      -0.002\n",
       "Longitude                             0.0012      0.001      2.105      0.035     7.9e-05       0.002\n",
       "Depth                                -0.0023      0.000     -4.860      0.000      -0.003      -0.001\n",
       "Source_CI                             4.0287      0.204     19.706      0.000       3.628       4.429\n",
       "Source_GCMT                       -1.513e-15   3.22e-16     -4.701      0.000   -2.14e-15   -8.82e-16\n",
       "Source_ISCGEM                     -4.143e-15    6.6e-16     -6.275      0.000   -5.44e-15   -2.85e-15\n",
       "Source_NC                             1.7233      0.408      4.222      0.000       0.923       2.524\n",
       "Source_Other_Source                   0.9315      1.265      0.736      0.462      -1.548       3.411\n",
       "Source_US                            -2.2117      0.899     -2.460      0.014      -3.974      -0.449\n",
       "Location_Source_CI                    4.0287      0.204     19.706      0.000       3.628       4.429\n",
       "Location_Source_GCMT              -2.769e-16   1.27e-16     -2.175      0.030   -5.26e-16   -2.74e-17\n",
       "Location_Source_ISCGEM             3.721e-16   4.33e-16      0.860      0.390   -4.76e-16    1.22e-15\n",
       "Location_Source_NC                    1.7233      0.408      4.222      0.000       0.923       2.524\n",
       "Location_Source_Other_Loc            -0.9241      0.476     -1.940      0.052      -1.858       0.010\n",
       "Location_Source_US                   -0.3561      0.472     -0.755      0.450      -1.281       0.569\n",
       "Magnitude_Source_CI                   4.0287      0.204     19.706      0.000       3.628       4.429\n",
       "Magnitude_Source_GCMT                 0.5061      0.444      1.140      0.254      -0.364       1.377\n",
       "Magnitude_Source_HRV                  0.8539      0.420      2.031      0.042       0.030       1.678\n",
       "Magnitude_Source_ISCGEM            3.542e-16   1.16e-16      3.062      0.002    1.27e-16    5.81e-16\n",
       "Magnitude_Source_NC                  -1.7408      0.526     -3.310      0.001      -2.772      -0.710\n",
       "Magnitude_Source_Other_Mag_Source    -0.7068      1.267     -0.558      0.577      -3.190       1.777\n",
       "Magnitude_Source_US                   1.5307      0.508      3.016      0.003       0.536       2.526\n",
       "Status_Automatic                           0          0        nan        nan           0           0\n",
       "Status_Reviewed                       4.4718      0.298     14.985      0.000       3.887       5.057\n",
       "Type_Earthquake                      -6.0780      0.637     -9.537      0.000      -7.327      -4.829\n",
       "Type_Nuclear_Explosion               10.5498      0.872     12.105      0.000       8.841      12.258\n",
       "Magnitude_Type_MB                     1.6984      0.340      4.992      0.000       1.031       2.365\n",
       "Magnitude_Type_ML                    -2.3845      0.801     -2.978      0.003      -3.954      -0.815\n",
       "Magnitude_Type_MS                     0.6512      0.471      1.383      0.167      -0.272       1.575\n",
       "Magnitude_Type_MW                     1.6700      0.420      3.975      0.000       0.846       2.494\n",
       "Magnitude_Type_MWB                    1.0077      0.346      2.913      0.004       0.330       1.686\n",
       "Magnitude_Type_MWC                    3.4451      0.379      9.096      0.000       2.703       4.188\n",
       "Magnitude_Type_MWR                    0.1633      1.233      0.132      0.895      -2.254       2.581\n",
       "Magnitude_Type_MWW                   -1.7793      0.320     -5.552      0.000      -2.408      -1.151\n",
       "Root_Mean_Square                      2.7418      0.326      8.401      0.000       2.102       3.382\n",
       "==============================================================================\n",
       "Omnibus:                     3341.627   Durbin-Watson:                   1.650\n",
       "Prob(Omnibus):                  0.000   Jarque-Bera (JB):           179917.980\n",
       "Skew:                           3.061   Prob(JB):                         0.00\n",
       "Kurtosis:                      33.536   Cond. No.                     3.44e+16\n",
       "==============================================================================\n",
       "\n",
       "Warnings:\n",
       "[1] Standard Errors assume that the covariance matrix of the errors is correctly specified.\n",
       "[2] The smallest eigenvalue is 9.83e-26. This might indicate that there are\n",
       "strong multicollinearity problems or that the design matrix is singular.\n",
       "\"\"\""
      ]
     },
     "execution_count": 55,
     "metadata": {},
     "output_type": "execute_result"
    }
   ],
   "source": [
    "formula = 'Depth_Error ~ ' + ' + '.join(df.columns[2:-3]) \n",
    "results_De = smf.ols(formula, data = df[pd.notnull(df['Depth_Error'])]).fit()\n",
    "results_De.summary()"
   ]
  },
  {
   "cell_type": "code",
   "execution_count": 58,
   "metadata": {
    "hidden": true
   },
   "outputs": [
    {
     "name": "stdout",
     "output_type": "stream",
     "text": [
      "17.56278830276929\n"
     ]
    }
   ],
   "source": [
    "# MSE is kinda reasonable, lets replace by predicted values\n",
    "print(results_De.mse_resid)\n",
    "df.loc[pd.isna(df.Depth_Error), 'Depth_Error'] = results_De.predict(df[pd.isna(df.Depth_Error)][df.columns[2:-3]])"
   ]
  },
  {
   "cell_type": "markdown",
   "metadata": {
    "hidden": true
   },
   "source": [
    "### Azimuthal_Gap"
   ]
  },
  {
   "cell_type": "markdown",
   "metadata": {
    "heading_collapsed": true,
    "hidden": true
   },
   "source": [
    "#### Linear model"
   ]
  },
  {
   "cell_type": "code",
   "execution_count": 124,
   "metadata": {
    "hidden": true
   },
   "outputs": [
    {
     "name": "stderr",
     "output_type": "stream",
     "text": [
      "/home/user/anaconda3/lib/python3.6/site-packages/statsmodels/base/model.py:1036: RuntimeWarning: invalid value encountered in true_divide\n",
      "  return self.params / self.bse\n",
      "/home/user/anaconda3/lib/python3.6/site-packages/scipy/stats/_distn_infrastructure.py:879: RuntimeWarning: invalid value encountered in greater\n",
      "  return (self.a < x) & (x < self.b)\n",
      "/home/user/anaconda3/lib/python3.6/site-packages/scipy/stats/_distn_infrastructure.py:879: RuntimeWarning: invalid value encountered in less\n",
      "  return (self.a < x) & (x < self.b)\n",
      "/home/user/anaconda3/lib/python3.6/site-packages/scipy/stats/_distn_infrastructure.py:1821: RuntimeWarning: invalid value encountered in less_equal\n",
      "  cond2 = cond0 & (x <= self.a)\n"
     ]
    },
    {
     "data": {
      "text/html": [
       "<table class=\"simpletable\">\n",
       "<caption>OLS Regression Results</caption>\n",
       "<tr>\n",
       "  <th>Dep. Variable:</th>      <td>Azimuthal_Gap</td>  <th>  R-squared:         </th> <td>   0.372</td> \n",
       "</tr>\n",
       "<tr>\n",
       "  <th>Model:</th>                   <td>OLS</td>       <th>  Adj. R-squared:    </th> <td>   0.370</td> \n",
       "</tr>\n",
       "<tr>\n",
       "  <th>Method:</th>             <td>Least Squares</td>  <th>  F-statistic:       </th> <td>   205.1</td> \n",
       "</tr>\n",
       "<tr>\n",
       "  <th>Date:</th>             <td>Mon, 30 Jul 2018</td> <th>  Prob (F-statistic):</th>  <td>  0.00</td>  \n",
       "</tr>\n",
       "<tr>\n",
       "  <th>Time:</th>                 <td>00:10:57</td>     <th>  Log-Likelihood:    </th> <td> -33805.</td> \n",
       "</tr>\n",
       "<tr>\n",
       "  <th>No. Observations:</th>      <td>  7287</td>      <th>  AIC:               </th> <td>6.765e+04</td>\n",
       "</tr>\n",
       "<tr>\n",
       "  <th>Df Residuals:</th>          <td>  7265</td>      <th>  BIC:               </th> <td>6.781e+04</td>\n",
       "</tr>\n",
       "<tr>\n",
       "  <th>Df Model:</th>              <td>    21</td>      <th>                     </th>     <td> </td>    \n",
       "</tr>\n",
       "<tr>\n",
       "  <th>Covariance Type:</th>      <td>nonrobust</td>    <th>                     </th>     <td> </td>    \n",
       "</tr>\n",
       "</table>\n",
       "<table class=\"simpletable\">\n",
       "<tr>\n",
       "                  <td></td>                     <th>coef</th>     <th>std err</th>      <th>t</th>      <th>P>|t|</th>  <th>[0.025</th>    <th>0.975]</th>  \n",
       "</tr>\n",
       "<tr>\n",
       "  <th>Intercept</th>                         <td>   35.1267</td> <td>    2.601</td> <td>   13.504</td> <td> 0.000</td> <td>   30.028</td> <td>   40.226</td>\n",
       "</tr>\n",
       "<tr>\n",
       "  <th>Latitude</th>                          <td>    0.0247</td> <td>    0.010</td> <td>    2.364</td> <td> 0.018</td> <td>    0.004</td> <td>    0.045</td>\n",
       "</tr>\n",
       "<tr>\n",
       "  <th>Longitude</th>                         <td>   -0.0475</td> <td>    0.002</td> <td>  -19.033</td> <td> 0.000</td> <td>   -0.052</td> <td>   -0.043</td>\n",
       "</tr>\n",
       "<tr>\n",
       "  <th>Depth</th>                             <td>   -0.0358</td> <td>    0.002</td> <td>  -14.366</td> <td> 0.000</td> <td>   -0.041</td> <td>   -0.031</td>\n",
       "</tr>\n",
       "<tr>\n",
       "  <th>Source_CI</th>                         <td>    9.6179</td> <td>    2.414</td> <td>    3.985</td> <td> 0.000</td> <td>    4.887</td> <td>   14.349</td>\n",
       "</tr>\n",
       "<tr>\n",
       "  <th>Source_GCMT</th>                       <td> 3.903e-14</td> <td> 1.83e-14</td> <td>    2.129</td> <td> 0.033</td> <td> 3.09e-15</td> <td>  7.5e-14</td>\n",
       "</tr>\n",
       "<tr>\n",
       "  <th>Source_ISCGEM</th>                     <td>-1.909e-14</td> <td> 7.49e-15</td> <td>   -2.550</td> <td> 0.011</td> <td>-3.38e-14</td> <td>-4.41e-15</td>\n",
       "</tr>\n",
       "<tr>\n",
       "  <th>Source_NC</th>                         <td>   51.3117</td> <td>   10.163</td> <td>    5.049</td> <td> 0.000</td> <td>   31.389</td> <td>   71.235</td>\n",
       "</tr>\n",
       "<tr>\n",
       "  <th>Source_Other_Source</th>               <td>  -42.1587</td> <td>    8.983</td> <td>   -4.693</td> <td> 0.000</td> <td>  -59.768</td> <td>  -24.549</td>\n",
       "</tr>\n",
       "<tr>\n",
       "  <th>Source_US</th>                         <td>   16.3558</td> <td>    8.249</td> <td>    1.983</td> <td> 0.047</td> <td>    0.184</td> <td>   32.527</td>\n",
       "</tr>\n",
       "<tr>\n",
       "  <th>Location_Source_CI</th>                <td>    9.6179</td> <td>    2.414</td> <td>    3.985</td> <td> 0.000</td> <td>    4.887</td> <td>   14.349</td>\n",
       "</tr>\n",
       "<tr>\n",
       "  <th>Location_Source_GCMT</th>              <td>   24.5387</td> <td>   20.599</td> <td>    1.191</td> <td> 0.234</td> <td>  -15.842</td> <td>   64.919</td>\n",
       "</tr>\n",
       "<tr>\n",
       "  <th>Location_Source_ISCGEM</th>            <td>-2.151e-14</td> <td> 1.01e-14</td> <td>   -2.138</td> <td> 0.033</td> <td>-4.12e-14</td> <td>-1.79e-15</td>\n",
       "</tr>\n",
       "<tr>\n",
       "  <th>Location_Source_NC</th>                <td>  -33.1085</td> <td>   20.159</td> <td>   -1.642</td> <td> 0.101</td> <td>  -72.626</td> <td>    6.409</td>\n",
       "</tr>\n",
       "<tr>\n",
       "  <th>Location_Source_Other_Loc</th>         <td>   14.5661</td> <td>    8.710</td> <td>    1.672</td> <td> 0.094</td> <td>   -2.508</td> <td>   31.640</td>\n",
       "</tr>\n",
       "<tr>\n",
       "  <th>Location_Source_US</th>                <td>   19.5124</td> <td>    8.604</td> <td>    2.268</td> <td> 0.023</td> <td>    2.645</td> <td>   36.379</td>\n",
       "</tr>\n",
       "<tr>\n",
       "  <th>Magnitude_Source_CI</th>               <td>    9.6179</td> <td>    2.414</td> <td>    3.985</td> <td> 0.000</td> <td>    4.887</td> <td>   14.349</td>\n",
       "</tr>\n",
       "<tr>\n",
       "  <th>Magnitude_Source_GCMT</th>             <td>   -9.4752</td> <td>    3.835</td> <td>   -2.471</td> <td> 0.014</td> <td>  -16.993</td> <td>   -1.958</td>\n",
       "</tr>\n",
       "<tr>\n",
       "  <th>Magnitude_Source_HRV</th>              <td>   -0.3243</td> <td>    3.856</td> <td>   -0.084</td> <td> 0.933</td> <td>   -7.884</td> <td>    7.235</td>\n",
       "</tr>\n",
       "<tr>\n",
       "  <th>Magnitude_Source_ISCGEM</th>           <td>  5.24e-15</td> <td> 2.99e-15</td> <td>    1.755</td> <td> 0.079</td> <td>-6.14e-16</td> <td> 1.11e-14</td>\n",
       "</tr>\n",
       "<tr>\n",
       "  <th>Magnitude_Source_NC</th>               <td>   51.3117</td> <td>   10.163</td> <td>    5.049</td> <td> 0.000</td> <td>   31.389</td> <td>   71.235</td>\n",
       "</tr>\n",
       "<tr>\n",
       "  <th>Magnitude_Source_Other_Mag_Source</th> <td>    2.9071</td> <td>    6.162</td> <td>    0.472</td> <td> 0.637</td> <td>   -9.172</td> <td>   14.986</td>\n",
       "</tr>\n",
       "<tr>\n",
       "  <th>Magnitude_Source_US</th>               <td>  -18.9106</td> <td>    3.816</td> <td>   -4.956</td> <td> 0.000</td> <td>  -26.390</td> <td>  -11.431</td>\n",
       "</tr>\n",
       "<tr>\n",
       "  <th>Status_Automatic</th>                  <td>         0</td> <td>        0</td> <td>      nan</td> <td>   nan</td> <td>        0</td> <td>        0</td>\n",
       "</tr>\n",
       "<tr>\n",
       "  <th>Status_Reviewed</th>                   <td>   35.1267</td> <td>    2.601</td> <td>   13.504</td> <td> 0.000</td> <td>   30.028</td> <td>   40.226</td>\n",
       "</tr>\n",
       "<tr>\n",
       "  <th>Type_Earthquake</th>                   <td>  -41.1012</td> <td>    3.792</td> <td>  -10.840</td> <td> 0.000</td> <td>  -48.534</td> <td>  -33.669</td>\n",
       "</tr>\n",
       "<tr>\n",
       "  <th>Type_Nuclear_Explosion</th>            <td>   76.2279</td> <td>    5.091</td> <td>   14.973</td> <td> 0.000</td> <td>   66.248</td> <td>   86.208</td>\n",
       "</tr>\n",
       "<tr>\n",
       "  <th>Magnitude_Type_MB</th>                 <td>    2.0668</td> <td>    3.638</td> <td>    0.568</td> <td> 0.570</td> <td>   -5.065</td> <td>    9.198</td>\n",
       "</tr>\n",
       "<tr>\n",
       "  <th>Magnitude_Type_ML</th>                 <td>   60.0477</td> <td>    8.918</td> <td>    6.733</td> <td> 0.000</td> <td>   42.566</td> <td>   77.530</td>\n",
       "</tr>\n",
       "<tr>\n",
       "  <th>Magnitude_Type_MS</th>                 <td>  -18.7514</td> <td>    5.784</td> <td>   -3.242</td> <td> 0.001</td> <td>  -30.090</td> <td>   -7.413</td>\n",
       "</tr>\n",
       "<tr>\n",
       "  <th>Magnitude_Type_MW</th>                 <td>   68.3986</td> <td>    9.157</td> <td>    7.470</td> <td> 0.000</td> <td>   50.448</td> <td>   86.349</td>\n",
       "</tr>\n",
       "<tr>\n",
       "  <th>Magnitude_Type_MWB</th>                <td>  -16.1624</td> <td>    3.551</td> <td>   -4.552</td> <td> 0.000</td> <td>  -23.123</td> <td>   -9.202</td>\n",
       "</tr>\n",
       "<tr>\n",
       "  <th>Magnitude_Type_MWC</th>                <td>  -26.2228</td> <td>    3.625</td> <td>   -7.234</td> <td> 0.000</td> <td>  -33.328</td> <td>  -19.117</td>\n",
       "</tr>\n",
       "<tr>\n",
       "  <th>Magnitude_Type_MWR</th>                <td>   -7.7967</td> <td>    6.940</td> <td>   -1.123</td> <td> 0.261</td> <td>  -21.401</td> <td>    5.808</td>\n",
       "</tr>\n",
       "<tr>\n",
       "  <th>Magnitude_Type_MWW</th>                <td>  -26.4532</td> <td>    3.531</td> <td>   -7.493</td> <td> 0.000</td> <td>  -33.374</td> <td>  -19.532</td>\n",
       "</tr>\n",
       "<tr>\n",
       "  <th>Root_Mean_Square</th>                  <td>   18.1862</td> <td>    1.600</td> <td>   11.369</td> <td> 0.000</td> <td>   15.051</td> <td>   21.322</td>\n",
       "</tr>\n",
       "</table>\n",
       "<table class=\"simpletable\">\n",
       "<tr>\n",
       "  <th>Omnibus:</th>       <td>2315.393</td> <th>  Durbin-Watson:     </th> <td>   1.802</td> \n",
       "</tr>\n",
       "<tr>\n",
       "  <th>Prob(Omnibus):</th>  <td> 0.000</td>  <th>  Jarque-Bera (JB):  </th> <td>15381.399</td>\n",
       "</tr>\n",
       "<tr>\n",
       "  <th>Skew:</th>           <td> 1.356</td>  <th>  Prob(JB):          </th> <td>    0.00</td> \n",
       "</tr>\n",
       "<tr>\n",
       "  <th>Kurtosis:</th>       <td> 9.581</td>  <th>  Cond. No.          </th> <td>3.92e+16</td> \n",
       "</tr>\n",
       "</table>"
      ],
      "text/plain": [
       "<class 'statsmodels.iolib.summary.Summary'>\n",
       "\"\"\"\n",
       "                            OLS Regression Results                            \n",
       "==============================================================================\n",
       "Dep. Variable:          Azimuthal_Gap   R-squared:                       0.372\n",
       "Model:                            OLS   Adj. R-squared:                  0.370\n",
       "Method:                 Least Squares   F-statistic:                     205.1\n",
       "Date:                Mon, 30 Jul 2018   Prob (F-statistic):               0.00\n",
       "Time:                        00:10:57   Log-Likelihood:                -33805.\n",
       "No. Observations:                7287   AIC:                         6.765e+04\n",
       "Df Residuals:                    7265   BIC:                         6.781e+04\n",
       "Df Model:                          21                                         \n",
       "Covariance Type:            nonrobust                                         \n",
       "=====================================================================================================\n",
       "                                        coef    std err          t      P>|t|      [0.025      0.975]\n",
       "-----------------------------------------------------------------------------------------------------\n",
       "Intercept                            35.1267      2.601     13.504      0.000      30.028      40.226\n",
       "Latitude                              0.0247      0.010      2.364      0.018       0.004       0.045\n",
       "Longitude                            -0.0475      0.002    -19.033      0.000      -0.052      -0.043\n",
       "Depth                                -0.0358      0.002    -14.366      0.000      -0.041      -0.031\n",
       "Source_CI                             9.6179      2.414      3.985      0.000       4.887      14.349\n",
       "Source_GCMT                        3.903e-14   1.83e-14      2.129      0.033    3.09e-15     7.5e-14\n",
       "Source_ISCGEM                     -1.909e-14   7.49e-15     -2.550      0.011   -3.38e-14   -4.41e-15\n",
       "Source_NC                            51.3117     10.163      5.049      0.000      31.389      71.235\n",
       "Source_Other_Source                 -42.1587      8.983     -4.693      0.000     -59.768     -24.549\n",
       "Source_US                            16.3558      8.249      1.983      0.047       0.184      32.527\n",
       "Location_Source_CI                    9.6179      2.414      3.985      0.000       4.887      14.349\n",
       "Location_Source_GCMT                 24.5387     20.599      1.191      0.234     -15.842      64.919\n",
       "Location_Source_ISCGEM            -2.151e-14   1.01e-14     -2.138      0.033   -4.12e-14   -1.79e-15\n",
       "Location_Source_NC                  -33.1085     20.159     -1.642      0.101     -72.626       6.409\n",
       "Location_Source_Other_Loc            14.5661      8.710      1.672      0.094      -2.508      31.640\n",
       "Location_Source_US                   19.5124      8.604      2.268      0.023       2.645      36.379\n",
       "Magnitude_Source_CI                   9.6179      2.414      3.985      0.000       4.887      14.349\n",
       "Magnitude_Source_GCMT                -9.4752      3.835     -2.471      0.014     -16.993      -1.958\n",
       "Magnitude_Source_HRV                 -0.3243      3.856     -0.084      0.933      -7.884       7.235\n",
       "Magnitude_Source_ISCGEM             5.24e-15   2.99e-15      1.755      0.079   -6.14e-16    1.11e-14\n",
       "Magnitude_Source_NC                  51.3117     10.163      5.049      0.000      31.389      71.235\n",
       "Magnitude_Source_Other_Mag_Source     2.9071      6.162      0.472      0.637      -9.172      14.986\n",
       "Magnitude_Source_US                 -18.9106      3.816     -4.956      0.000     -26.390     -11.431\n",
       "Status_Automatic                           0          0        nan        nan           0           0\n",
       "Status_Reviewed                      35.1267      2.601     13.504      0.000      30.028      40.226\n",
       "Type_Earthquake                     -41.1012      3.792    -10.840      0.000     -48.534     -33.669\n",
       "Type_Nuclear_Explosion               76.2279      5.091     14.973      0.000      66.248      86.208\n",
       "Magnitude_Type_MB                     2.0668      3.638      0.568      0.570      -5.065       9.198\n",
       "Magnitude_Type_ML                    60.0477      8.918      6.733      0.000      42.566      77.530\n",
       "Magnitude_Type_MS                   -18.7514      5.784     -3.242      0.001     -30.090      -7.413\n",
       "Magnitude_Type_MW                    68.3986      9.157      7.470      0.000      50.448      86.349\n",
       "Magnitude_Type_MWB                  -16.1624      3.551     -4.552      0.000     -23.123      -9.202\n",
       "Magnitude_Type_MWC                  -26.2228      3.625     -7.234      0.000     -33.328     -19.117\n",
       "Magnitude_Type_MWR                   -7.7967      6.940     -1.123      0.261     -21.401       5.808\n",
       "Magnitude_Type_MWW                  -26.4532      3.531     -7.493      0.000     -33.374     -19.532\n",
       "Root_Mean_Square                     18.1862      1.600     11.369      0.000      15.051      21.322\n",
       "==============================================================================\n",
       "Omnibus:                     2315.393   Durbin-Watson:                   1.802\n",
       "Prob(Omnibus):                  0.000   Jarque-Bera (JB):            15381.399\n",
       "Skew:                           1.356   Prob(JB):                         0.00\n",
       "Kurtosis:                       9.581   Cond. No.                     3.92e+16\n",
       "==============================================================================\n",
       "\n",
       "Warnings:\n",
       "[1] Standard Errors assume that the covariance matrix of the errors is correctly specified.\n",
       "[2] The smallest eigenvalue is 8.98e-26. This might indicate that there are\n",
       "strong multicollinearity problems or that the design matrix is singular.\n",
       "\"\"\""
      ]
     },
     "execution_count": 124,
     "metadata": {},
     "output_type": "execute_result"
    }
   ],
   "source": [
    "formula = 'Azimuthal_Gap ~ ' + ' + '.join(df.columns[2:-3])\n",
    "results_Az = smf.ols(formula, data = df[pd.notnull(df['Azimuthal_Gap'])]).fit()\n",
    "results_Az.summary()"
   ]
  },
  {
   "cell_type": "code",
   "execution_count": 125,
   "metadata": {
    "hidden": true
   },
   "outputs": [
    {
     "data": {
      "text/plain": [
       "628.4359908246118"
      ]
     },
     "execution_count": 125,
     "metadata": {},
     "output_type": "execute_result"
    }
   ],
   "source": [
    "MSE is too large. I tried to get some connections in weak estimators but it lowered MSE to 570 which is not enough\n",
    "results_Az.mse_resid"
   ]
  },
  {
   "cell_type": "markdown",
   "metadata": {
    "heading_collapsed": true,
    "hidden": true
   },
   "source": [
    "#### XGB regreessor"
   ]
  },
  {
   "cell_type": "code",
   "execution_count": 69,
   "metadata": {
    "hidden": true
   },
   "outputs": [],
   "source": [
    "X_tr_sm, X_test_sm, y_tr_sm, y_test_sm = train_test_split(df.drop(['Magnitude', 'Date', 'Depth_Seismic_Stations'], axis=1).dropna(), df['Azimuthal_Gap'].dropna(), test_size=0.3, random_state = 0, shuffle=True) "
   ]
  },
  {
   "cell_type": "code",
   "execution_count": 72,
   "metadata": {
    "hidden": true
   },
   "outputs": [
    {
     "name": "stdout",
     "output_type": "stream",
     "text": [
      "Cross_validation score of XGB is:  0.19135242369221375\n",
      "Test score of XGB is:  0.18308782797159212\n",
      "CPU times: user 6.21 s, sys: 10.1 ms, total: 6.22 s\n",
      "Wall time: 6.22 s\n"
     ]
    }
   ],
   "source": [
    "%%time\n",
    "import xgboost as xgb\n",
    "model_xgb = xgb.XGBRegressor(max_depth = 8, learning_rate = 0.1, random_state=1)\n",
    "cross_val_score_xgb = np.mean(-cross_val_score(model_xgb, X = X_tr_sm, y = y_tr_sm,\n",
    "                         cv = ShuffleSplit(n_splits=3, test_size=0.3, random_state=0),\n",
    "                         scoring='neg_mean_squared_error'))\n",
    "model_xgb.fit(X_tr_sm, y_tr_sm)\n",
    "print('Cross_validation score of XGB is: ', cross_val_score_xgb)\n",
    "print('Test score of XGB is: ', mean_squared_error(model_xgb.predict(X_test_sm), y_test_sm))"
   ]
  },
  {
   "cell_type": "code",
   "execution_count": 77,
   "metadata": {
    "collapsed": true,
    "hidden": true
   },
   "outputs": [],
   "source": [
    "# Xgboost behaved pretty well, lets replace\n",
    "df.loc[pd.isna(df.Azimuthal_Gap), 'Azimuthal_Gap'] = model_xgb.predict(df[pd.isna(df.Azimuthal_Gap)].drop(['Magnitude', 'Date', 'Depth_Seismic_Stations'], axis=1))"
   ]
  },
  {
   "cell_type": "markdown",
   "metadata": {
    "heading_collapsed": true,
    "hidden": true
   },
   "source": [
    "### Depth_Seismic_Stations "
   ]
  },
  {
   "cell_type": "code",
   "execution_count": 88,
   "metadata": {
    "hidden": true
   },
   "outputs": [
    {
     "name": "stdout",
     "output_type": "stream",
     "text": [
      "Cross_validation score of XGB is:  0.5895566754544107\n",
      "Test score of XGB is:  0.6794182464084974\n"
     ]
    }
   ],
   "source": [
    "# XGB behaved much more better than linear or polynomial regressions\n",
    "X_tr_sm, X_test_sm, y_tr_sm, y_test_sm = train_test_split(df.drop(['Magnitude', 'Date'], axis=1).dropna(), df['Depth_Seismic_Stations'].dropna(), test_size=0.3, random_state = 0, shuffle=True) \n",
    "\n",
    "import xgboost as xgb\n",
    "model_xgb = xgb.XGBRegressor(max_depth = 10, learning_rate = 0.1, random_state=1)\n",
    "\n",
    "cross_val_score_xgb = np.mean(-cross_val_score(model_xgb, X = X_tr_sm, y = y_tr_sm,\n",
    "                         cv = ShuffleSplit(n_splits=3, test_size=0.3, random_state=0),\n",
    "                         scoring='neg_mean_squared_error'))\n",
    "model_xgb.fit(X_tr_sm, y_tr_sm)\n",
    "print('Cross_validation score of XGB is: ', cross_val_score_xgb)\n",
    "print('Test score of XGB is: ', mean_squared_error(model_xgb.predict(X_test_sm), y_test_sm))"
   ]
  },
  {
   "cell_type": "code",
   "execution_count": 89,
   "metadata": {
    "collapsed": true,
    "hidden": true
   },
   "outputs": [],
   "source": [
    "# Xgboost behaved pretty well, lets replace\n",
    "df.loc[pd.isna(df.Depth_Seismic_Stations), 'Depth_Seismic_Stations'] = model_xgb.predict(df[pd.isna(df.Depth_Seismic_Stations)].drop(['Magnitude', 'Date'], axis=1))"
   ]
  },
  {
   "cell_type": "code",
   "execution_count": 90,
   "metadata": {
    "hidden": true,
    "scrolled": true
   },
   "outputs": [
    {
     "name": "stdout",
     "output_type": "stream",
     "text": [
      "<class 'pandas.core.frame.DataFrame'>\n",
      "RangeIndex: 23396 entries, 0 to 23395\n",
      "Data columns (total 40 columns):\n",
      "Magnitude                            23396 non-null float64\n",
      "Date                                 23396 non-null datetime64[ns]\n",
      "Latitude                             23396 non-null float64\n",
      "Longitude                            23396 non-null float64\n",
      "Depth                                23396 non-null float64\n",
      "Source_CI                            23396 non-null uint8\n",
      "Source_GCMT                          23396 non-null uint8\n",
      "Source_ISCGEM                        23396 non-null uint8\n",
      "Source_NC                            23396 non-null uint8\n",
      "Source_Other_Source                  23396 non-null uint8\n",
      "Source_US                            23396 non-null uint8\n",
      "Location_Source_CI                   23396 non-null uint8\n",
      "Location_Source_GCMT                 23396 non-null uint8\n",
      "Location_Source_ISCGEM               23396 non-null uint8\n",
      "Location_Source_NC                   23396 non-null uint8\n",
      "Location_Source_Other_Loc            23396 non-null uint8\n",
      "Location_Source_US                   23396 non-null uint8\n",
      "Magnitude_Source_CI                  23396 non-null uint8\n",
      "Magnitude_Source_GCMT                23396 non-null uint8\n",
      "Magnitude_Source_HRV                 23396 non-null uint8\n",
      "Magnitude_Source_ISCGEM              23396 non-null uint8\n",
      "Magnitude_Source_NC                  23396 non-null uint8\n",
      "Magnitude_Source_Other_Mag_Source    23396 non-null uint8\n",
      "Magnitude_Source_US                  23396 non-null uint8\n",
      "Status_Automatic                     23396 non-null uint8\n",
      "Status_Reviewed                      23396 non-null uint8\n",
      "Type_Earthquake                      23396 non-null uint8\n",
      "Type_Nuclear_Explosion               23396 non-null uint8\n",
      "Magnitude_Type_MB                    23396 non-null uint8\n",
      "Magnitude_Type_ML                    23396 non-null uint8\n",
      "Magnitude_Type_MS                    23396 non-null uint8\n",
      "Magnitude_Type_MW                    23396 non-null uint8\n",
      "Magnitude_Type_MWB                   23396 non-null uint8\n",
      "Magnitude_Type_MWC                   23396 non-null uint8\n",
      "Magnitude_Type_MWR                   23396 non-null uint8\n",
      "Magnitude_Type_MWW                   23396 non-null uint8\n",
      "Root_Mean_Square                     23396 non-null float64\n",
      "Azimuthal_Gap                        23396 non-null float64\n",
      "Depth_Seismic_Stations               23396 non-null float64\n",
      "Depth_Error                          23396 non-null float64\n",
      "dtypes: datetime64[ns](1), float64(8), uint8(31)\n",
      "memory usage: 2.3 MB\n"
     ]
    }
   ],
   "source": [
    "df.info()"
   ]
  },
  {
   "cell_type": "code",
   "execution_count": null,
   "metadata": {
    "collapsed": true,
    "hidden": true
   },
   "outputs": [],
   "source": []
  },
  {
   "cell_type": "code",
   "execution_count": 201,
   "metadata": {
    "collapsed": true,
    "hidden": true
   },
   "outputs": [],
   "source": [
    "# # df.info()\n",
    "\n",
    "# mean sq log error\n",
    "\n",
    "# use mse loss, but predict log([price)])"
   ]
  },
  {
   "cell_type": "markdown",
   "metadata": {},
   "source": [
    "## Lets try some tree models"
   ]
  },
  {
   "cell_type": "code",
   "execution_count": 91,
   "metadata": {
    "collapsed": true
   },
   "outputs": [],
   "source": [
    "from sklearn.model_selection import train_test_split\n",
    "from sklearn import tree\n",
    "from sklearn.model_selection import cross_val_score\n",
    "from sklearn.metrics import mean_squared_error\n",
    "from sklearn.model_selection import ShuffleSplit\n",
    "from sklearn.model_selection import GridSearchCV\n",
    "\n",
    "X_train, X_test, y_train, y_test = train_test_split(df.drop(['Magnitude', 'Date'], axis=1), df['Magnitude'], test_size=0.3, random_state=0, shuffle=True )"
   ]
  },
  {
   "cell_type": "code",
   "execution_count": 93,
   "metadata": {
    "collapsed": true
   },
   "outputs": [],
   "source": [
    "# function does grid search of parameters, prints the cross val score, the final train and test scores\n",
    "# returns the best model\n",
    "def gridsearcher(model, tuned_parameters, X_train, X_test, y_train, y_test):\n",
    "    model_grid = GridSearchCV(model(random_state=1), tuned_parameters, cv = 3,\n",
    "                       scoring='neg_mean_squared_error')\n",
    "    model_grid.fit(X_train, y_train)\n",
    "    print(\"Best parameters set found on development set:\")\n",
    "    print()\n",
    "    print(model_grid.best_params_)\n",
    "    print()\n",
    "    print(\"Grid scores on development set:\")\n",
    "    print()\n",
    "    means = model_grid.cv_results_['mean_test_score']\n",
    "    stds = model_grid.cv_results_['std_test_score']\n",
    "    for mean, std, params in zip(means, stds, model_grid.cv_results_['params']):\n",
    "        print(\"%0.3f (+/-%0.03f) for %r\"\n",
    "              % (mean, std * 2, params))\n",
    "    print()\n",
    "    print('Train score is: ', mean_squared_error(model_grid.predict(X_train), y_train))\n",
    "    print('Test score is: ', mean_squared_error(model_grid.predict(X_test), y_test))\n",
    "    \n",
    "    return model_grid"
   ]
  },
  {
   "cell_type": "markdown",
   "metadata": {
    "heading_collapsed": true
   },
   "source": [
    "### Bagging tree Test score is:  0.1403"
   ]
  },
  {
   "cell_type": "code",
   "execution_count": 98,
   "metadata": {
    "hidden": true
   },
   "outputs": [
    {
     "name": "stdout",
     "output_type": "stream",
     "text": [
      "Best parameters set found on development set:\n",
      "\n",
      "{'n_estimators': 100}\n",
      "\n",
      "Grid scores on development set:\n",
      "\n",
      "-0.144 (+/-0.014) for {'n_estimators': 30}\n",
      "-0.142 (+/-0.014) for {'n_estimators': 50}\n",
      "-0.141 (+/-0.013) for {'n_estimators': 75}\n",
      "-0.141 (+/-0.013) for {'n_estimators': 100}\n",
      "\n",
      "Train score is:  0.01966066600144814\n",
      "Test score is:  0.14038143003684278\n",
      "CPU times: user 2min 21s, sys: 99.8 ms, total: 2min 21s\n",
      "Wall time: 2min 21s\n"
     ]
    }
   ],
   "source": [
    "%%time\n",
    "from sklearn.ensemble import BaggingRegressor\n",
    "tuned_parameters = [{'n_estimators': [30, 50, 75, 100]}]\n",
    "model_bag = gridsearcher(BaggingRegressor, tuned_parameters, X_train, X_test, y_train, y_test)"
   ]
  },
  {
   "cell_type": "markdown",
   "metadata": {
    "heading_collapsed": true
   },
   "source": [
    "### Random forest. Test score is:  0.1319"
   ]
  },
  {
   "cell_type": "code",
   "execution_count": 97,
   "metadata": {
    "hidden": true
   },
   "outputs": [
    {
     "name": "stdout",
     "output_type": "stream",
     "text": [
      "Best parameters set found on development set:\n",
      "\n",
      "{'max_depth': 15, 'n_estimators': 100}\n",
      "\n",
      "Grid scores on development set:\n",
      "\n",
      "-0.138 (+/-0.018) for {'max_depth': 8, 'n_estimators': 30}\n",
      "-0.138 (+/-0.018) for {'max_depth': 8, 'n_estimators': 50}\n",
      "-0.138 (+/-0.018) for {'max_depth': 8, 'n_estimators': 100}\n",
      "-0.136 (+/-0.018) for {'max_depth': 10, 'n_estimators': 30}\n",
      "-0.136 (+/-0.018) for {'max_depth': 10, 'n_estimators': 50}\n",
      "-0.136 (+/-0.017) for {'max_depth': 10, 'n_estimators': 100}\n",
      "-0.136 (+/-0.016) for {'max_depth': 15, 'n_estimators': 30}\n",
      "-0.135 (+/-0.016) for {'max_depth': 15, 'n_estimators': 50}\n",
      "-0.134 (+/-0.015) for {'max_depth': 15, 'n_estimators': 100}\n",
      "\n",
      "Train score is:  0.07493833993911184\n",
      "Test score is:  0.13193089929632026\n",
      "CPU times: user 2min 30s, sys: 51.5 ms, total: 2min 30s\n",
      "Wall time: 2min 30s\n"
     ]
    }
   ],
   "source": [
    "%%time\n",
    "from sklearn.ensemble import RandomForestRegressor\n",
    "tuned_parameters = [{'n_estimators': [30, 50, 100], 'max_depth': [8, 10,15]}]\n",
    "model_Forest = gridsearcher(RandomForestRegressor, tuned_parameters, X_train, X_test, y_train, y_test)"
   ]
  },
  {
   "cell_type": "code",
   "execution_count": 101,
   "metadata": {
    "hidden": true
   },
   "outputs": [
    {
     "name": "stderr",
     "output_type": "stream",
     "text": [
      "/home/user/anaconda3/lib/python3.6/site-packages/seaborn/categorical.py:1428: FutureWarning: remove_na is deprecated and is a private function. Do not use.\n",
      "  stat_data = remove_na(group_data)\n"
     ]
    },
    {
     "name": "stdout",
     "output_type": "stream",
     "text": [
      "\n"
     ]
    },
    {
     "data": {
      "image/png": "[encoded data removed]",
      "text/plain": [
       "<matplotlib.figure.Figure at 0x7f1f19df3080>"
      ]
     },
     "metadata": {},
     "output_type": "display_data"
    }
   ],
   "source": [
    "model_Rand_Forest = RandomForestRegressor(n_estimators = 100, max_depth=15, random_state=1)\n",
    "model_Rand_Forest.fit(X_train, y_train)\n",
    "\n",
    "from matplotlib.pyplot import figure\n",
    "figure(num=None, figsize=(8, 6), dpi=80)\n",
    "sns.barplot(x = X_train.columns, y = model_Rand_Forest.feature_importances_, orient=90, hue_order = 'ascending')\n",
    "plt.xticks(rotation = 90)\n",
    "\n",
    "print()"
   ]
  },
  {
   "cell_type": "markdown",
   "metadata": {
    "heading_collapsed": true
   },
   "source": [
    "### Adaboost Test score -  0.1599"
   ]
  },
  {
   "cell_type": "code",
   "execution_count": 102,
   "metadata": {
    "hidden": true
   },
   "outputs": [
    {
     "name": "stdout",
     "output_type": "stream",
     "text": [
      "Best parameters set found on development set:\n",
      "\n",
      "{'learning_rate': 0.01, 'n_estimators': 25}\n",
      "\n",
      "Grid scores on development set:\n",
      "\n",
      "-0.160 (+/-0.020) for {'learning_rate': 0.001, 'n_estimators': 10}\n",
      "-0.159 (+/-0.020) for {'learning_rate': 0.001, 'n_estimators': 25}\n",
      "-0.159 (+/-0.020) for {'learning_rate': 0.001, 'n_estimators': 40}\n",
      "-0.159 (+/-0.021) for {'learning_rate': 0.001, 'n_estimators': 50}\n",
      "-0.160 (+/-0.019) for {'learning_rate': 0.01, 'n_estimators': 10}\n",
      "-0.159 (+/-0.021) for {'learning_rate': 0.01, 'n_estimators': 25}\n",
      "-0.160 (+/-0.019) for {'learning_rate': 0.01, 'n_estimators': 40}\n",
      "-0.160 (+/-0.019) for {'learning_rate': 0.01, 'n_estimators': 50}\n",
      "-0.159 (+/-0.021) for {'learning_rate': 0.1, 'n_estimators': 10}\n",
      "-0.161 (+/-0.015) for {'learning_rate': 0.1, 'n_estimators': 25}\n",
      "-0.166 (+/-0.015) for {'learning_rate': 0.1, 'n_estimators': 40}\n",
      "-0.173 (+/-0.010) for {'learning_rate': 0.1, 'n_estimators': 50}\n",
      "\n",
      "Train score is:  0.15832320864785315\n",
      "Test score is:  0.15991046742133935\n",
      "CPU times: user 59.2 s, sys: 24 ms, total: 59.2 s\n",
      "Wall time: 59.2 s\n"
     ]
    }
   ],
   "source": [
    "%%time\n",
    "from sklearn.ensemble import AdaBoostRegressor\n",
    "tuned_parameters = [{'n_estimators': [10, 25, 40, 50], 'learning_rate': [0.001, 0.01, 0.1]}]\n",
    "Ada_model = gridsearcher(AdaBoostRegressor, tuned_parameters, X_train, X_test, y_train, y_test)"
   ]
  },
  {
   "cell_type": "code",
   "execution_count": 104,
   "metadata": {
    "hidden": true
   },
   "outputs": [
    {
     "name": "stderr",
     "output_type": "stream",
     "text": [
      "/home/user/anaconda3/lib/python3.6/site-packages/seaborn/categorical.py:1428: FutureWarning: remove_na is deprecated and is a private function. Do not use.\n",
      "  stat_data = remove_na(group_data)\n"
     ]
    },
    {
     "name": "stdout",
     "output_type": "stream",
     "text": [
      "\n",
      "CPU times: user 2.44 s, sys: 38 µs, total: 2.44 s\n",
      "Wall time: 2.43 s\n"
     ]
    },
    {
     "data": {
      "image/png": "[encoded data removed]",
      "text/plain": [
       "<matplotlib.figure.Figure at 0x7f1f124e3668>"
      ]
     },
     "metadata": {},
     "output_type": "display_data"
    }
   ],
   "source": [
    "%%time\n",
    "model_adaboost = AdaBoostRegressor(n_estimators= 25, learning_rate=0.01, random_state=1)\n",
    "model_adaboost.fit(X_train, y_train)\n",
    "\n",
    "sns.barplot(x = X_train.columns, y = model_adaboost.feature_importances_, orient=90, hue_order = 'ascending')\n",
    "plt.xticks(rotation = 90)\n",
    "print()"
   ]
  },
  {
   "cell_type": "markdown",
   "metadata": {
    "heading_collapsed": true
   },
   "source": [
    "### Gradient boosting, Test score - 0.1307"
   ]
  },
  {
   "cell_type": "code",
   "execution_count": 172,
   "metadata": {
    "hidden": true
   },
   "outputs": [
    {
     "name": "stdout",
     "output_type": "stream",
     "text": [
      "Best parameters set found on development set:\n",
      "\n",
      "{'learning_rate': 0.1, 'max_depth': 5, 'n_estimators': 100}\n",
      "\n",
      "Grid scores on development set:\n",
      "\n",
      "-0.153 (+/-0.020) for {'learning_rate': 0.05, 'max_depth': 3, 'n_estimators': 30}\n",
      "-0.146 (+/-0.020) for {'learning_rate': 0.05, 'max_depth': 3, 'n_estimators': 50}\n",
      "-0.140 (+/-0.019) for {'learning_rate': 0.05, 'max_depth': 3, 'n_estimators': 100}\n",
      "-0.144 (+/-0.019) for {'learning_rate': 0.05, 'max_depth': 5, 'n_estimators': 30}\n",
      "-0.139 (+/-0.019) for {'learning_rate': 0.05, 'max_depth': 5, 'n_estimators': 50}\n",
      "-0.135 (+/-0.018) for {'learning_rate': 0.05, 'max_depth': 5, 'n_estimators': 100}\n",
      "-0.138 (+/-0.018) for {'learning_rate': 0.05, 'max_depth': 8, 'n_estimators': 30}\n",
      "-0.134 (+/-0.017) for {'learning_rate': 0.05, 'max_depth': 8, 'n_estimators': 50}\n",
      "-0.134 (+/-0.016) for {'learning_rate': 0.05, 'max_depth': 8, 'n_estimators': 100}\n",
      "-0.137 (+/-0.018) for {'learning_rate': 0.05, 'max_depth': 10, 'n_estimators': 30}\n",
      "-0.135 (+/-0.017) for {'learning_rate': 0.05, 'max_depth': 10, 'n_estimators': 50}\n",
      "-0.136 (+/-0.015) for {'learning_rate': 0.05, 'max_depth': 10, 'n_estimators': 100}\n",
      "-0.147 (+/-0.020) for {'learning_rate': 0.08, 'max_depth': 3, 'n_estimators': 30}\n",
      "-0.142 (+/-0.020) for {'learning_rate': 0.08, 'max_depth': 3, 'n_estimators': 50}\n",
      "-0.138 (+/-0.020) for {'learning_rate': 0.08, 'max_depth': 3, 'n_estimators': 100}\n",
      "-0.139 (+/-0.019) for {'learning_rate': 0.08, 'max_depth': 5, 'n_estimators': 30}\n",
      "-0.136 (+/-0.018) for {'learning_rate': 0.08, 'max_depth': 5, 'n_estimators': 50}\n",
      "-0.134 (+/-0.018) for {'learning_rate': 0.08, 'max_depth': 5, 'n_estimators': 100}\n",
      "-0.135 (+/-0.016) for {'learning_rate': 0.08, 'max_depth': 8, 'n_estimators': 30}\n",
      "-0.134 (+/-0.016) for {'learning_rate': 0.08, 'max_depth': 8, 'n_estimators': 50}\n",
      "-0.134 (+/-0.015) for {'learning_rate': 0.08, 'max_depth': 8, 'n_estimators': 100}\n",
      "-0.135 (+/-0.017) for {'learning_rate': 0.08, 'max_depth': 10, 'n_estimators': 30}\n",
      "-0.135 (+/-0.016) for {'learning_rate': 0.08, 'max_depth': 10, 'n_estimators': 50}\n",
      "-0.137 (+/-0.015) for {'learning_rate': 0.08, 'max_depth': 10, 'n_estimators': 100}\n",
      "-0.144 (+/-0.020) for {'learning_rate': 0.1, 'max_depth': 3, 'n_estimators': 30}\n",
      "-0.140 (+/-0.019) for {'learning_rate': 0.1, 'max_depth': 3, 'n_estimators': 50}\n",
      "-0.137 (+/-0.019) for {'learning_rate': 0.1, 'max_depth': 3, 'n_estimators': 100}\n",
      "-0.137 (+/-0.018) for {'learning_rate': 0.1, 'max_depth': 5, 'n_estimators': 30}\n",
      "-0.135 (+/-0.018) for {'learning_rate': 0.1, 'max_depth': 5, 'n_estimators': 50}\n",
      "-0.133 (+/-0.017) for {'learning_rate': 0.1, 'max_depth': 5, 'n_estimators': 100}\n",
      "-0.134 (+/-0.016) for {'learning_rate': 0.1, 'max_depth': 8, 'n_estimators': 30}\n",
      "-0.133 (+/-0.016) for {'learning_rate': 0.1, 'max_depth': 8, 'n_estimators': 50}\n",
      "-0.135 (+/-0.015) for {'learning_rate': 0.1, 'max_depth': 8, 'n_estimators': 100}\n",
      "-0.135 (+/-0.016) for {'learning_rate': 0.1, 'max_depth': 10, 'n_estimators': 30}\n",
      "-0.136 (+/-0.016) for {'learning_rate': 0.1, 'max_depth': 10, 'n_estimators': 50}\n",
      "-0.139 (+/-0.015) for {'learning_rate': 0.1, 'max_depth': 10, 'n_estimators': 100}\n",
      "\n",
      "Train score is:  0.11026614023387314\n",
      "Test score is:  0.13112029217293975\n",
      "CPU times: user 10min 7s, sys: 0 ns, total: 10min 7s\n",
      "Wall time: 10min 7s\n"
     ]
    }
   ],
   "source": [
    "%%time\n",
    "from sklearn.ensemble import GradientBoostingRegressor\n",
    "tuned_parameters = [{'n_estimators': [30, 50, 100], 'learning_rate': [0.05, 0.08, 0.1], \n",
    "                    'max_depth': [3, 5, 8, 10]}]\n",
    "Grad_params = gridsearcher(GradientBoostingRegressor, tuned_parameters, X_train, X_test, y_train, y_test)"
   ]
  },
  {
   "cell_type": "code",
   "execution_count": 108,
   "metadata": {
    "code_folding": [],
    "hidden": true
   },
   "outputs": [
    {
     "name": "stdout",
     "output_type": "stream",
     "text": [
      "Cross_validation score of Gradient boosting is:  0.1345981823392173\n",
      "Test score of Adaboost is:  0.13070836238926914\n"
     ]
    },
    {
     "name": "stderr",
     "output_type": "stream",
     "text": [
      "/home/user/anaconda3/lib/python3.6/site-packages/seaborn/categorical.py:1428: FutureWarning: remove_na is deprecated and is a private function. Do not use.\n",
      "  stat_data = remove_na(group_data)\n"
     ]
    },
    {
     "name": "stdout",
     "output_type": "stream",
     "text": [
      "\n",
      "CPU times: user 23.5 s, sys: 24 ms, total: 23.5 s\n",
      "Wall time: 23.5 s\n"
     ]
    },
    {
     "data": {
      "image/png": "[encoded data removed]",
      "text/plain": [
       "<matplotlib.figure.Figure at 0x7f1f1250fba8>"
      ]
     },
     "metadata": {},
     "output_type": "display_data"
    }
   ],
   "source": [
    "%%time\n",
    "from sklearn.ensemble import GradientBoostingRegressor\n",
    "model_grad_boost = GradientBoostingRegressor(n_estimators = 100, learning_rate = 0.1, max_depth = 5) # n\n",
    "cross_val_score_GradBoost = np.mean(-cross_val_score(model_grad_boost, X = X_train, y = y_train,\n",
    "                     cv = ShuffleSplit(n_splits=3, test_size=0.3, random_state=0),\n",
    "                     scoring='neg_mean_squared_error'))\n",
    "model_grad_boost.fit(X_train, y_train)\n",
    "print('Cross_validation score of Gradient boosting is: ', cross_val_score_GradBoost)\n",
    "print('Test score of Gradien boost is: ', mean_squared_error(model_grad_boost.predict(X_test), y_test))\n",
    "sns.barplot(x = X_train.columns, y = model_grad_boost.feature_importances_, orient=90, hue_order = 'ascending')\n",
    "plt.xticks(rotation = 90)\n",
    "print()"
   ]
  },
  {
   "cell_type": "markdown",
   "metadata": {
    "heading_collapsed": true
   },
   "source": [
    "### XGboost  Test score -  0.1302"
   ]
  },
  {
   "cell_type": "code",
   "execution_count": 110,
   "metadata": {
    "hidden": true,
    "scrolled": true
   },
   "outputs": [
    {
     "name": "stdout",
     "output_type": "stream",
     "text": [
      "Best parameters set found on development set:\n",
      "\n",
      "{'learning_rate': 0.1, 'max_depth': 8, 'n_estimators': 100}\n",
      "\n",
      "Grid scores on development set:\n",
      "\n",
      "-1.491 (+/-0.050) for {'learning_rate': 0.05, 'max_depth': 3, 'n_estimators': 30}\n",
      "-0.320 (+/-0.031) for {'learning_rate': 0.05, 'max_depth': 3, 'n_estimators': 50}\n",
      "-0.142 (+/-0.020) for {'learning_rate': 0.05, 'max_depth': 3, 'n_estimators': 100}\n",
      "-1.487 (+/-0.051) for {'learning_rate': 0.05, 'max_depth': 5, 'n_estimators': 30}\n",
      "-0.314 (+/-0.031) for {'learning_rate': 0.05, 'max_depth': 5, 'n_estimators': 50}\n",
      "-0.136 (+/-0.019) for {'learning_rate': 0.05, 'max_depth': 5, 'n_estimators': 100}\n",
      "-1.486 (+/-0.050) for {'learning_rate': 0.05, 'max_depth': 8, 'n_estimators': 30}\n",
      "-0.313 (+/-0.029) for {'learning_rate': 0.05, 'max_depth': 8, 'n_estimators': 50}\n",
      "-0.134 (+/-0.018) for {'learning_rate': 0.05, 'max_depth': 8, 'n_estimators': 100}\n",
      "-1.486 (+/-0.050) for {'learning_rate': 0.05, 'max_depth': 10, 'n_estimators': 30}\n",
      "-0.314 (+/-0.028) for {'learning_rate': 0.05, 'max_depth': 10, 'n_estimators': 50}\n",
      "-0.134 (+/-0.018) for {'learning_rate': 0.05, 'max_depth': 10, 'n_estimators': 100}\n",
      "-0.344 (+/-0.032) for {'learning_rate': 0.08, 'max_depth': 3, 'n_estimators': 30}\n",
      "-0.150 (+/-0.022) for {'learning_rate': 0.08, 'max_depth': 3, 'n_estimators': 50}\n",
      "-0.138 (+/-0.019) for {'learning_rate': 0.08, 'max_depth': 3, 'n_estimators': 100}\n",
      "-0.338 (+/-0.031) for {'learning_rate': 0.08, 'max_depth': 5, 'n_estimators': 30}\n",
      "-0.144 (+/-0.021) for {'learning_rate': 0.08, 'max_depth': 5, 'n_estimators': 50}\n",
      "-0.134 (+/-0.019) for {'learning_rate': 0.08, 'max_depth': 5, 'n_estimators': 100}\n",
      "-0.336 (+/-0.030) for {'learning_rate': 0.08, 'max_depth': 8, 'n_estimators': 30}\n",
      "-0.141 (+/-0.020) for {'learning_rate': 0.08, 'max_depth': 8, 'n_estimators': 50}\n",
      "-0.132 (+/-0.017) for {'learning_rate': 0.08, 'max_depth': 8, 'n_estimators': 100}\n",
      "-0.339 (+/-0.027) for {'learning_rate': 0.08, 'max_depth': 10, 'n_estimators': 30}\n",
      "-0.143 (+/-0.019) for {'learning_rate': 0.08, 'max_depth': 10, 'n_estimators': 50}\n",
      "-0.135 (+/-0.017) for {'learning_rate': 0.08, 'max_depth': 10, 'n_estimators': 100}\n",
      "-0.198 (+/-0.026) for {'learning_rate': 0.1, 'max_depth': 3, 'n_estimators': 30}\n",
      "-0.142 (+/-0.021) for {'learning_rate': 0.1, 'max_depth': 3, 'n_estimators': 50}\n",
      "-0.137 (+/-0.020) for {'learning_rate': 0.1, 'max_depth': 3, 'n_estimators': 100}\n",
      "-0.192 (+/-0.025) for {'learning_rate': 0.1, 'max_depth': 5, 'n_estimators': 30}\n",
      "-0.136 (+/-0.019) for {'learning_rate': 0.1, 'max_depth': 5, 'n_estimators': 50}\n",
      "-0.133 (+/-0.018) for {'learning_rate': 0.1, 'max_depth': 5, 'n_estimators': 100}\n",
      "-0.190 (+/-0.024) for {'learning_rate': 0.1, 'max_depth': 8, 'n_estimators': 30}\n",
      "-0.134 (+/-0.019) for {'learning_rate': 0.1, 'max_depth': 8, 'n_estimators': 50}\n",
      "-0.132 (+/-0.018) for {'learning_rate': 0.1, 'max_depth': 8, 'n_estimators': 100}\n",
      "-0.191 (+/-0.021) for {'learning_rate': 0.1, 'max_depth': 10, 'n_estimators': 30}\n",
      "-0.134 (+/-0.016) for {'learning_rate': 0.1, 'max_depth': 10, 'n_estimators': 50}\n",
      "-0.135 (+/-0.015) for {'learning_rate': 0.1, 'max_depth': 10, 'n_estimators': 100}\n",
      "\n",
      "Train score is:  0.08558687053840813\n",
      "Test score is:  0.1303344604881976\n",
      "CPU times: user 4min 29s, sys: 315 ms, total: 4min 29s\n",
      "Wall time: 4min 29s\n"
     ]
    }
   ],
   "source": [
    "%%time\n",
    "import xgboost as xgb\n",
    "tuned_parameters = [{'n_estimators': [30, 50, 100], 'learning_rate': [0.05, 0.08, 0.1], \n",
    "                    'max_depth': [3, 5, 8, 10]}]\n",
    "Xgb_params = gridsearcher(xgb.XGBRegressor, tuned_parameters, X_train, X_test, y_train, y_test)"
   ]
  },
  {
   "cell_type": "code",
   "execution_count": 109,
   "metadata": {
    "hidden": true
   },
   "outputs": [
    {
     "name": "stdout",
     "output_type": "stream",
     "text": [
      "Cross_validation score of XGB is:  0.13351125788716509\n",
      "Test score of XGB is:  0.13022474138195986\n"
     ]
    },
    {
     "name": "stderr",
     "output_type": "stream",
     "text": [
      "/home/user/anaconda3/lib/python3.6/site-packages/seaborn/categorical.py:1428: FutureWarning: remove_na is deprecated and is a private function. Do not use.\n",
      "  stat_data = remove_na(group_data)\n"
     ]
    },
    {
     "name": "stdout",
     "output_type": "stream",
     "text": [
      "\n",
      "CPU times: user 22.5 s, sys: 36.1 ms, total: 22.5 s\n",
      "Wall time: 22.5 s\n"
     ]
    },
    {
     "data": {
      "image/png": "[encoded data removed]",
      "text/plain": [
       "<matplotlib.figure.Figure at 0x7f1f123b0cc0>"
      ]
     },
     "metadata": {},
     "output_type": "display_data"
    }
   ],
   "source": [
    "%%time\n",
    "model_xgb = xgb.XGBRegressor(n_estimators=100, max_depth=8, learning_rate = 0.08, random_state=1)\n",
    "cross_val_score_xgb = np.mean(-cross_val_score(model_xgb, X = X_train, y = y_train,\n",
    "                         cv = ShuffleSplit(n_splits=3, test_size=0.3, random_state=0),\n",
    "                         scoring='neg_mean_squared_error'))\n",
    "model_xgb.fit(X_train, y_train)\n",
    "print('Cross_validation score of XGB is: ', cross_val_score_xgb)\n",
    "print('Test score of XGB is: ', mean_squared_error(model_xgb.predict(X_test), y_test))\n",
    "sns.barplot(x = X_train.columns, y = model_xgb.feature_importances_, orient=90, hue_order = 'ascending')\n",
    "plt.xticks(rotation = 90)\n",
    "print()"
   ]
  },
  {
   "cell_type": "markdown",
   "metadata": {
    "heading_collapsed": true
   },
   "source": [
    "### Light GBM. Test score -  0.1288 Best test score"
   ]
  },
  {
   "cell_type": "code",
   "execution_count": 115,
   "metadata": {
    "hidden": true,
    "scrolled": true
   },
   "outputs": [
    {
     "name": "stdout",
     "output_type": "stream",
     "text": [
      "Best parameters set found on development set:\n",
      "\n",
      "{'learning_rate': 0.08, 'max_depth': 10, 'n_estimators': 100}\n",
      "\n",
      "Grid scores on development set:\n",
      "\n",
      "-0.153 (+/-0.020) for {'learning_rate': 0.05, 'max_depth': 3, 'n_estimators': 30}\n",
      "-0.147 (+/-0.020) for {'learning_rate': 0.05, 'max_depth': 3, 'n_estimators': 50}\n",
      "-0.141 (+/-0.020) for {'learning_rate': 0.05, 'max_depth': 3, 'n_estimators': 100}\n",
      "-0.145 (+/-0.020) for {'learning_rate': 0.05, 'max_depth': 5, 'n_estimators': 30}\n",
      "-0.140 (+/-0.020) for {'learning_rate': 0.05, 'max_depth': 5, 'n_estimators': 50}\n",
      "-0.135 (+/-0.019) for {'learning_rate': 0.05, 'max_depth': 5, 'n_estimators': 100}\n",
      "-0.140 (+/-0.019) for {'learning_rate': 0.05, 'max_depth': 8, 'n_estimators': 30}\n",
      "-0.136 (+/-0.018) for {'learning_rate': 0.05, 'max_depth': 8, 'n_estimators': 50}\n",
      "-0.133 (+/-0.018) for {'learning_rate': 0.05, 'max_depth': 8, 'n_estimators': 100}\n",
      "-0.140 (+/-0.019) for {'learning_rate': 0.05, 'max_depth': 10, 'n_estimators': 30}\n",
      "-0.135 (+/-0.019) for {'learning_rate': 0.05, 'max_depth': 10, 'n_estimators': 50}\n",
      "-0.132 (+/-0.019) for {'learning_rate': 0.05, 'max_depth': 10, 'n_estimators': 100}\n",
      "-0.147 (+/-0.020) for {'learning_rate': 0.08, 'max_depth': 3, 'n_estimators': 30}\n",
      "-0.143 (+/-0.020) for {'learning_rate': 0.08, 'max_depth': 3, 'n_estimators': 50}\n",
      "-0.138 (+/-0.020) for {'learning_rate': 0.08, 'max_depth': 3, 'n_estimators': 100}\n",
      "-0.140 (+/-0.020) for {'learning_rate': 0.08, 'max_depth': 5, 'n_estimators': 30}\n",
      "-0.137 (+/-0.019) for {'learning_rate': 0.08, 'max_depth': 5, 'n_estimators': 50}\n",
      "-0.134 (+/-0.018) for {'learning_rate': 0.08, 'max_depth': 5, 'n_estimators': 100}\n",
      "-0.136 (+/-0.018) for {'learning_rate': 0.08, 'max_depth': 8, 'n_estimators': 30}\n",
      "-0.134 (+/-0.018) for {'learning_rate': 0.08, 'max_depth': 8, 'n_estimators': 50}\n",
      "-0.132 (+/-0.017) for {'learning_rate': 0.08, 'max_depth': 8, 'n_estimators': 100}\n",
      "-0.136 (+/-0.019) for {'learning_rate': 0.08, 'max_depth': 10, 'n_estimators': 30}\n",
      "-0.133 (+/-0.019) for {'learning_rate': 0.08, 'max_depth': 10, 'n_estimators': 50}\n",
      "-0.132 (+/-0.018) for {'learning_rate': 0.08, 'max_depth': 10, 'n_estimators': 100}\n",
      "-0.145 (+/-0.020) for {'learning_rate': 0.1, 'max_depth': 3, 'n_estimators': 30}\n",
      "-0.141 (+/-0.019) for {'learning_rate': 0.1, 'max_depth': 3, 'n_estimators': 50}\n",
      "-0.137 (+/-0.019) for {'learning_rate': 0.1, 'max_depth': 3, 'n_estimators': 100}\n",
      "-0.138 (+/-0.019) for {'learning_rate': 0.1, 'max_depth': 5, 'n_estimators': 30}\n",
      "-0.135 (+/-0.018) for {'learning_rate': 0.1, 'max_depth': 5, 'n_estimators': 50}\n",
      "-0.133 (+/-0.018) for {'learning_rate': 0.1, 'max_depth': 5, 'n_estimators': 100}\n",
      "-0.135 (+/-0.018) for {'learning_rate': 0.1, 'max_depth': 8, 'n_estimators': 30}\n",
      "-0.133 (+/-0.018) for {'learning_rate': 0.1, 'max_depth': 8, 'n_estimators': 50}\n",
      "-0.132 (+/-0.017) for {'learning_rate': 0.1, 'max_depth': 8, 'n_estimators': 100}\n",
      "-0.135 (+/-0.019) for {'learning_rate': 0.1, 'max_depth': 10, 'n_estimators': 30}\n",
      "-0.133 (+/-0.019) for {'learning_rate': 0.1, 'max_depth': 10, 'n_estimators': 50}\n",
      "-0.132 (+/-0.018) for {'learning_rate': 0.1, 'max_depth': 10, 'n_estimators': 100}\n",
      "\n",
      "Train score is:  0.10835779873712317\n",
      "Test score is:  0.12886587371259248\n",
      "CPU times: user 46 s, sys: 404 ms, total: 46.4 s\n",
      "Wall time: 46.6 s\n"
     ]
    }
   ],
   "source": [
    "%%time\n",
    "import lightgbm as lgb\n",
    "params = {'max_depth':[10,30,50], 'learning_rate':[0.1, 0.01, 0.05],'n_estimators':[15, 30, 50, 100]}\n",
    "lgb_model = gridsearcher(lgb.LGBMRegressor, tuned_parameters, X_train, X_test, y_train, y_test)"
   ]
  },
  {
   "cell_type": "code",
   "execution_count": null,
   "metadata": {
    "collapsed": true,
    "hidden": true
   },
   "outputs": [],
   "source": []
  },
  {
   "cell_type": "code",
   "execution_count": 120,
   "metadata": {
    "hidden": true
   },
   "outputs": [
    {
     "name": "stdout",
     "output_type": "stream",
     "text": [
      "Cross_validation score of LGB is:  0.13217609637915897\n",
      "Test score of LGB is:  0.12886587371259248\n"
     ]
    },
    {
     "name": "stderr",
     "output_type": "stream",
     "text": [
      "/home/user/anaconda3/lib/python3.6/site-packages/seaborn/categorical.py:1428: FutureWarning: remove_na is deprecated and is a private function. Do not use.\n",
      "  stat_data = remove_na(group_data)\n"
     ]
    },
    {
     "name": "stdout",
     "output_type": "stream",
     "text": [
      "\n",
      "CPU times: user 3.03 s, sys: 40 ms, total: 3.07 s\n",
      "Wall time: 3.06 s\n"
     ]
    },
    {
     "data": {
      "image/png": "[encoded data removed]",
      "text/plain": [
       "<matplotlib.figure.Figure at 0x7f1f11a569b0>"
      ]
     },
     "metadata": {},
     "output_type": "display_data"
    }
   ],
   "source": [
    "%%time\n",
    "import lightgbm as lgb\n",
    "model_lgb = lgb.LGBMRegressor(n_estimators=100, max_depth = 10, learning_rate = 0.08, reg_alpha=0.1, random_state=1)\n",
    "cross_val_score_lgb = np.mean(-cross_val_score(model_lgb, X = X_train, y = y_train,\n",
    "                         cv = ShuffleSplit(n_splits=3, test_size=0.3, random_state=0),\n",
    "                         scoring='neg_mean_squared_error'))\n",
    "model_lgb.fit(X_train, y_train)\n",
    "print('Cross_validation score of LGB is: ', cross_val_score_lgb)\n",
    "print('Test score of LGB is: ', mean_squared_error(model_lgb.predict(X_test), y_test))\n",
    "sns.barplot(x = X_train.columns, y = model_lgb.feature_importances_, orient=90, hue_order = 'ascending')\n",
    "plt.xticks(rotation = 90)\n",
    "print()"
   ]
  },
  {
   "cell_type": "markdown",
   "metadata": {
    "collapsed": true,
    "heading_collapsed": true
   },
   "source": [
    "### Catboost, df with dummy variables, Test score of Catboost is:  0.1294"
   ]
  },
  {
   "cell_type": "code",
   "execution_count": 165,
   "metadata": {
    "hidden": true
   },
   "outputs": [
    {
     "name": "stdout",
     "output_type": "stream",
     "text": [
      "Cross_validation score of Catboost is:  0.1322457350055353\n",
      "Test score of Catboost is:  0.12943456606089665\n"
     ]
    },
    {
     "name": "stderr",
     "output_type": "stream",
     "text": [
      "/home/user/anaconda3/lib/python3.6/site-packages/seaborn/categorical.py:1428: FutureWarning: remove_na is deprecated and is a private function. Do not use.\n",
      "  stat_data = remove_na(group_data)\n"
     ]
    },
    {
     "name": "stdout",
     "output_type": "stream",
     "text": [
      "\n",
      "CPU times: user 5min 1s, sys: 27.9 s, total: 5min 29s\n",
      "Wall time: 1min 52s\n"
     ]
    },
    {
     "data": {
      "image/png": "[encoded data removed]",
      "text/plain": [
       "<matplotlib.figure.Figure at 0x7f1f127db898>"
      ]
     },
     "metadata": {},
     "output_type": "display_data"
    }
   ],
   "source": [
    "%%time\n",
    "from catboost import CatBoostRegressor\n",
    "model_cat = CatBoostRegressor(silent = True, random_state = 1)\n",
    "cross_val_score_cat = np.mean(-cross_val_score(model_cat, X = X_train, y = y_train,\n",
    "                         cv = ShuffleSplit(n_splits=3, test_size=0.3, random_state=0),\n",
    "                         scoring='neg_mean_squared_error'))\n",
    "model_cat.fit(X_train, y_train)\n",
    "print('Cross_validation score of Catboost is: ', cross_val_score_cat)\n",
    "print('Test score of Catboost is: ', mean_squared_error(model_cat.predict(X_test), y_test))\n",
    "sns.barplot(x = X_train.columns, y = model_cat.feature_importances_, orient=90, hue_order = 'ascending')\n",
    "plt.xticks(rotation = 90)\n",
    "print()"
   ]
  },
  {
   "cell_type": "markdown",
   "metadata": {
    "heading_collapsed": true
   },
   "source": [
    "### Catboost without dummy variables Test score  0.1303"
   ]
  },
  {
   "cell_type": "code",
   "execution_count": 147,
   "metadata": {
    "hidden": true
   },
   "outputs": [],
   "source": [
    "# just for interest lets replace the predicted columns of df here and give catboost the \n",
    "# indexes if the categorical varibales\n",
    "# df_new.loc[:,'Root Mean Square']] = df[['Depth_Error', 'Depth_Seismic_Stations','Azimuthal_Gap', 'Root_Mean_Square']]\n",
    "df_new.loc[:,'Depth Error'] = df.Depth_Error\n",
    "df_new.loc[:,'Depth Seismic Stations'] = df.Depth_Seismic_Stations\n",
    "df_new.loc[:,'Azimuthal Gap'] = df.Azimuthal_Gap\n",
    "df_new.loc[:,'Root Mean Square'] = df.Root_Mean_Square\n",
    "df_new.dropna(inplace=True)"
   ]
  },
  {
   "cell_type": "code",
   "execution_count": 152,
   "metadata": {
    "hidden": true
   },
   "outputs": [],
   "source": [
    "from sklearn.model_selection import train_test_split\n",
    "X_trainn, X_testt, y_trainn, y_testt = train_test_split(df_new.drop(['Magnitude', 'Date'], axis=1), df_new['Magnitude'], test_size=0.3, random_state=0,)"
   ]
  },
  {
   "cell_type": "code",
   "execution_count": 171,
   "metadata": {
    "hidden": true
   },
   "outputs": [
    {
     "name": "stdout",
     "output_type": "stream",
     "text": [
      "Cross_validation score of Catboost is:  0.1322457350055353\n",
      "Test score of Catboost is  0.1303601483832226\n"
     ]
    },
    {
     "name": "stderr",
     "output_type": "stream",
     "text": [
      "/home/user/anaconda3/lib/python3.6/site-packages/seaborn/categorical.py:1428: FutureWarning: remove_na is deprecated and is a private function. Do not use.\n",
      "  stat_data = remove_na(group_data)\n"
     ]
    },
    {
     "name": "stdout",
     "output_type": "stream",
     "text": [
      "CPU times: user 6min 46s, sys: 33.8 s, total: 7min 20s\n",
      "Wall time: 2min 9s\n"
     ]
    },
    {
     "data": {
      "image/png": "[encoded data removed]",
      "text/plain": [
       "<matplotlib.figure.Figure at 0x7f1f1200def0>"
      ]
     },
     "metadata": {},
     "output_type": "display_data"
    }
   ],
   "source": [
    "%%time\n",
    "from catboost import CatBoostRegressor\n",
    "categorical_features_indices = np.where(df_new.drop(['Magnitude', 'Date'], axis=1).dtypes != np.float)[0]\n",
    "model_cat2 = CatBoostRegressor(learning_rate=0.1, silent=True, random_state=1)\n",
    "cross_val_score_cat2 = np.mean(-cross_val_score(model_cat2, fit_params={'cat_features':categorical_features_indices}, \n",
    "                                                X = X_trainn, y = y_trainn,\n",
    "                         cv = ShuffleSplit(n_splits=3, test_size=0.3, random_state=0),\n",
    "                         scoring='neg_mean_squared_error'))\n",
    "model_cat2.fit(X_trainn, y_trainn, cat_features=categorical_features_indices)\n",
    "print('Cross_validation score of Catboost is: ', cross_val_score_cat)\n",
    "print('Test score of Catboost is ', mean_squared_error(model_cat2.predict(X_testt), y_testt))\n",
    "sns.barplot(x = X_trainn.columns, y = model_cat2.feature_importances_, orient=90, hue_order = 'ascending')\n",
    "plt.xticks(rotation = 90)"
   ]
  },
  {
   "cell_type": "markdown",
   "metadata": {},
   "source": [
    "## Conclusion"
   ]
  },
  {
   "cell_type": "markdown",
   "metadata": {},
   "source": [
    "Overall the best score gave lightGBM but Catboost and xgboost were pretty close. "
   ]
  }
 ],
 "metadata": {
  "kernelspec": {
   "display_name": "Python 3",
   "language": "python",
   "name": "python3"
  },
  "language_info": {
   "codemirror_mode": {
    "name": "ipython",
    "version": 3
   },
   "file_extension": ".py",
   "mimetype": "text/x-python",
   "name": "python",
   "nbconvert_exporter": "python",
   "pygments_lexer": "ipython3",
   "version": "3.6.4"
  },
  "notify_time": "30"
 },
 "nbformat": 4,
 "nbformat_minor": 2
}
